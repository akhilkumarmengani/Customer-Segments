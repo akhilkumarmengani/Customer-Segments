{
 "cells": [
  {
   "cell_type": "markdown",
   "metadata": {},
   "source": [
    "# Project: Identify Customer Segments\n",
    "\n",
    "In this project, you will apply unsupervised learning techniques to identify segments of the population that form the core customer base for a mail-order sales company in Germany. These segments can then be used to direct marketing campaigns towards audiences that will have the highest expected rate of returns. The data that you will use has been provided by our partners at Bertelsmann Arvato Analytics, and represents a real-life data science task.\n",
    "\n",
    "This notebook will help you complete this task by providing a framework within which you will perform your analysis steps. In each step of the project, you will see some text describing the subtask that you will perform, followed by one or more code cells for you to complete your work. **Feel free to add additional code and markdown cells as you go along so that you can explore everything in precise chunks.** The code cells provided in the base template will outline only the major tasks, and will usually not be enough to cover all of the minor tasks that comprise it.\n",
    "\n",
    "It should be noted that while there will be precise guidelines on how you should handle certain tasks in the project, there will also be places where an exact specification is not provided. **There will be times in the project where you will need to make and justify your own decisions on how to treat the data.** These are places where there may not be only one way to handle the data. In real-life tasks, there may be many valid ways to approach an analysis task. One of the most important things you can do is clearly document your approach so that other scientists can understand the decisions you've made.\n",
    "\n",
    "At the end of most sections, there will be a Markdown cell labeled **Discussion**. In these cells, you will report your findings for the completed section, as well as document the decisions that you made in your approach to each subtask. **Your project will be evaluated not just on the code used to complete the tasks outlined, but also your communication about your observations and conclusions at each stage.**"
   ]
  },
  {
   "cell_type": "code",
   "execution_count": 1,
   "metadata": {},
   "outputs": [
    {
     "data": {
      "text/plain": [
       "'\\nImport note: The classroom currently uses sklearn version 0.19.\\nIf you need to use an imputer, it is available in sklearn.preprocessing.Imputer,\\ninstead of sklearn.impute as in newer versions of sklearn.\\n'"
      ]
     },
     "execution_count": 1,
     "metadata": {},
     "output_type": "execute_result"
    }
   ],
   "source": [
    "# import libraries here; add more as necessary\n",
    "import numpy as np\n",
    "import pandas as pd\n",
    "import matplotlib.pyplot as plt\n",
    "import seaborn as sns\n",
    "from sklearn.decomposition import pca\n",
    "from sklearn.cluster import KMeans\n",
    "from sklearn.preprocessing import Imputer\n",
    "from sklearn.cluster import KMeans\n",
    "from sklearn.preprocessing import StandardScaler\n",
    "from sklearn.decomposition import PCA    \n",
    "from sklearn.preprocessing import LabelEncoder\n",
    "\n",
    "\n",
    "# magic word for producing visualizations in notebook\n",
    "%matplotlib inline\n",
    "\n",
    "'''\n",
    "Import note: The classroom currently uses sklearn version 0.19.\n",
    "If you need to use an imputer, it is available in sklearn.preprocessing.Imputer,\n",
    "instead of sklearn.impute as in newer versions of sklearn.\n",
    "'''"
   ]
  },
  {
   "cell_type": "markdown",
   "metadata": {},
   "source": [
    "### Step 0: Load the Data\n",
    "\n",
    "There are four files associated with this project (not including this one):\n",
    "\n",
    "- `Udacity_AZDIAS_Subset.csv`: Demographics data for the general population of Germany; 891211 persons (rows) x 85 features (columns).\n",
    "- `Udacity_CUSTOMERS_Subset.csv`: Demographics data for customers of a mail-order company; 191652 persons (rows) x 85 features (columns).\n",
    "- `Data_Dictionary.md`: Detailed information file about the features in the provided datasets.\n",
    "- `AZDIAS_Feature_Summary.csv`: Summary of feature attributes for demographics data; 85 features (rows) x 4 columns\n",
    "\n",
    "Each row of the demographics files represents a single person, but also includes information outside of individuals, including information about their household, building, and neighborhood. You will use this information to cluster the general population into groups with similar demographic properties. Then, you will see how the people in the customers dataset fit into those created clusters. The hope here is that certain clusters are over-represented in the customers data, as compared to the general population; those over-represented clusters will be assumed to be part of the core userbase. This information can then be used for further applications, such as targeting for a marketing campaign.\n",
    "\n",
    "To start off with, load in the demographics data for the general population into a pandas DataFrame, and do the same for the feature attributes summary. Note for all of the `.csv` data files in this project: they're semicolon (`;`) delimited, so you'll need an additional argument in your [`read_csv()`](https://pandas.pydata.org/pandas-docs/stable/generated/pandas.read_csv.html) call to read in the data properly. Also, considering the size of the main dataset, it may take some time for it to load completely.\n",
    "\n",
    "Once the dataset is loaded, it's recommended that you take a little bit of time just browsing the general structure of the dataset and feature summary file. You'll be getting deep into the innards of the cleaning in the first major step of the project, so gaining some general familiarity can help you get your bearings."
   ]
  },
  {
   "cell_type": "code",
   "execution_count": 2,
   "metadata": {},
   "outputs": [],
   "source": [
    "# Load in the general demographics data.\n",
    "azdias = pd.read_csv('Udacity_AZDIAS_Subset.csv',delimiter=\";\")\n",
    "\n",
    "# Load in the feature summary file.\n",
    "feat_info = pd.read_csv('AZDIAS_Feature_Summary.csv', delimiter=\";\")"
   ]
  },
  {
   "cell_type": "code",
   "execution_count": 3,
   "metadata": {},
   "outputs": [
    {
     "name": "stdout",
     "output_type": "stream",
     "text": [
      "Number of rows - 891221\n",
      "Number of columns - 85\n"
     ]
    },
    {
     "data": {
      "text/html": [
       "<div>\n",
       "<style scoped>\n",
       "    .dataframe tbody tr th:only-of-type {\n",
       "        vertical-align: middle;\n",
       "    }\n",
       "\n",
       "    .dataframe tbody tr th {\n",
       "        vertical-align: top;\n",
       "    }\n",
       "\n",
       "    .dataframe thead th {\n",
       "        text-align: right;\n",
       "    }\n",
       "</style>\n",
       "<table border=\"1\" class=\"dataframe\">\n",
       "  <thead>\n",
       "    <tr style=\"text-align: right;\">\n",
       "      <th></th>\n",
       "      <th>AGER_TYP</th>\n",
       "      <th>ALTERSKATEGORIE_GROB</th>\n",
       "      <th>ANREDE_KZ</th>\n",
       "      <th>CJT_GESAMTTYP</th>\n",
       "      <th>FINANZ_MINIMALIST</th>\n",
       "      <th>FINANZ_SPARER</th>\n",
       "      <th>FINANZ_VORSORGER</th>\n",
       "      <th>FINANZ_ANLEGER</th>\n",
       "      <th>FINANZ_UNAUFFAELLIGER</th>\n",
       "      <th>FINANZ_HAUSBAUER</th>\n",
       "      <th>...</th>\n",
       "      <th>PLZ8_ANTG1</th>\n",
       "      <th>PLZ8_ANTG2</th>\n",
       "      <th>PLZ8_ANTG3</th>\n",
       "      <th>PLZ8_ANTG4</th>\n",
       "      <th>PLZ8_BAUMAX</th>\n",
       "      <th>PLZ8_HHZ</th>\n",
       "      <th>PLZ8_GBZ</th>\n",
       "      <th>ARBEIT</th>\n",
       "      <th>ORTSGR_KLS9</th>\n",
       "      <th>RELAT_AB</th>\n",
       "    </tr>\n",
       "  </thead>\n",
       "  <tbody>\n",
       "    <tr>\n",
       "      <th>0</th>\n",
       "      <td>-1</td>\n",
       "      <td>2</td>\n",
       "      <td>1</td>\n",
       "      <td>2.0</td>\n",
       "      <td>3</td>\n",
       "      <td>4</td>\n",
       "      <td>3</td>\n",
       "      <td>5</td>\n",
       "      <td>5</td>\n",
       "      <td>3</td>\n",
       "      <td>...</td>\n",
       "      <td>NaN</td>\n",
       "      <td>NaN</td>\n",
       "      <td>NaN</td>\n",
       "      <td>NaN</td>\n",
       "      <td>NaN</td>\n",
       "      <td>NaN</td>\n",
       "      <td>NaN</td>\n",
       "      <td>NaN</td>\n",
       "      <td>NaN</td>\n",
       "      <td>NaN</td>\n",
       "    </tr>\n",
       "    <tr>\n",
       "      <th>1</th>\n",
       "      <td>-1</td>\n",
       "      <td>1</td>\n",
       "      <td>2</td>\n",
       "      <td>5.0</td>\n",
       "      <td>1</td>\n",
       "      <td>5</td>\n",
       "      <td>2</td>\n",
       "      <td>5</td>\n",
       "      <td>4</td>\n",
       "      <td>5</td>\n",
       "      <td>...</td>\n",
       "      <td>2.0</td>\n",
       "      <td>3.0</td>\n",
       "      <td>2.0</td>\n",
       "      <td>1.0</td>\n",
       "      <td>1.0</td>\n",
       "      <td>5.0</td>\n",
       "      <td>4.0</td>\n",
       "      <td>3.0</td>\n",
       "      <td>5.0</td>\n",
       "      <td>4.0</td>\n",
       "    </tr>\n",
       "    <tr>\n",
       "      <th>2</th>\n",
       "      <td>-1</td>\n",
       "      <td>3</td>\n",
       "      <td>2</td>\n",
       "      <td>3.0</td>\n",
       "      <td>1</td>\n",
       "      <td>4</td>\n",
       "      <td>1</td>\n",
       "      <td>2</td>\n",
       "      <td>3</td>\n",
       "      <td>5</td>\n",
       "      <td>...</td>\n",
       "      <td>3.0</td>\n",
       "      <td>3.0</td>\n",
       "      <td>1.0</td>\n",
       "      <td>0.0</td>\n",
       "      <td>1.0</td>\n",
       "      <td>4.0</td>\n",
       "      <td>4.0</td>\n",
       "      <td>3.0</td>\n",
       "      <td>5.0</td>\n",
       "      <td>2.0</td>\n",
       "    </tr>\n",
       "    <tr>\n",
       "      <th>3</th>\n",
       "      <td>2</td>\n",
       "      <td>4</td>\n",
       "      <td>2</td>\n",
       "      <td>2.0</td>\n",
       "      <td>4</td>\n",
       "      <td>2</td>\n",
       "      <td>5</td>\n",
       "      <td>2</td>\n",
       "      <td>1</td>\n",
       "      <td>2</td>\n",
       "      <td>...</td>\n",
       "      <td>2.0</td>\n",
       "      <td>2.0</td>\n",
       "      <td>2.0</td>\n",
       "      <td>0.0</td>\n",
       "      <td>1.0</td>\n",
       "      <td>3.0</td>\n",
       "      <td>4.0</td>\n",
       "      <td>2.0</td>\n",
       "      <td>3.0</td>\n",
       "      <td>3.0</td>\n",
       "    </tr>\n",
       "    <tr>\n",
       "      <th>4</th>\n",
       "      <td>-1</td>\n",
       "      <td>3</td>\n",
       "      <td>1</td>\n",
       "      <td>5.0</td>\n",
       "      <td>4</td>\n",
       "      <td>3</td>\n",
       "      <td>4</td>\n",
       "      <td>1</td>\n",
       "      <td>3</td>\n",
       "      <td>2</td>\n",
       "      <td>...</td>\n",
       "      <td>2.0</td>\n",
       "      <td>4.0</td>\n",
       "      <td>2.0</td>\n",
       "      <td>1.0</td>\n",
       "      <td>2.0</td>\n",
       "      <td>3.0</td>\n",
       "      <td>3.0</td>\n",
       "      <td>4.0</td>\n",
       "      <td>6.0</td>\n",
       "      <td>5.0</td>\n",
       "    </tr>\n",
       "  </tbody>\n",
       "</table>\n",
       "<p>5 rows × 85 columns</p>\n",
       "</div>"
      ],
      "text/plain": [
       "   AGER_TYP  ALTERSKATEGORIE_GROB  ANREDE_KZ  CJT_GESAMTTYP  \\\n",
       "0        -1                     2          1            2.0   \n",
       "1        -1                     1          2            5.0   \n",
       "2        -1                     3          2            3.0   \n",
       "3         2                     4          2            2.0   \n",
       "4        -1                     3          1            5.0   \n",
       "\n",
       "   FINANZ_MINIMALIST  FINANZ_SPARER  FINANZ_VORSORGER  FINANZ_ANLEGER  \\\n",
       "0                  3              4                 3               5   \n",
       "1                  1              5                 2               5   \n",
       "2                  1              4                 1               2   \n",
       "3                  4              2                 5               2   \n",
       "4                  4              3                 4               1   \n",
       "\n",
       "   FINANZ_UNAUFFAELLIGER  FINANZ_HAUSBAUER    ...     PLZ8_ANTG1  PLZ8_ANTG2  \\\n",
       "0                      5                 3    ...            NaN         NaN   \n",
       "1                      4                 5    ...            2.0         3.0   \n",
       "2                      3                 5    ...            3.0         3.0   \n",
       "3                      1                 2    ...            2.0         2.0   \n",
       "4                      3                 2    ...            2.0         4.0   \n",
       "\n",
       "   PLZ8_ANTG3  PLZ8_ANTG4  PLZ8_BAUMAX  PLZ8_HHZ  PLZ8_GBZ  ARBEIT  \\\n",
       "0         NaN         NaN          NaN       NaN       NaN     NaN   \n",
       "1         2.0         1.0          1.0       5.0       4.0     3.0   \n",
       "2         1.0         0.0          1.0       4.0       4.0     3.0   \n",
       "3         2.0         0.0          1.0       3.0       4.0     2.0   \n",
       "4         2.0         1.0          2.0       3.0       3.0     4.0   \n",
       "\n",
       "   ORTSGR_KLS9  RELAT_AB  \n",
       "0          NaN       NaN  \n",
       "1          5.0       4.0  \n",
       "2          5.0       2.0  \n",
       "3          3.0       3.0  \n",
       "4          6.0       5.0  \n",
       "\n",
       "[5 rows x 85 columns]"
      ]
     },
     "execution_count": 3,
     "metadata": {},
     "output_type": "execute_result"
    }
   ],
   "source": [
    "# Check the structure of the data after it's loaded (e.g. print the number of\n",
    "# rows and columns, print the first few rows).\n",
    "rows, columns = azdias.shape\n",
    "print('Number of rows -', rows)\n",
    "print('Number of columns -', columns)\n",
    "azdias.head()"
   ]
  },
  {
   "cell_type": "code",
   "execution_count": 4,
   "metadata": {},
   "outputs": [],
   "source": [
    "feat_info = pd.read_csv('AZDIAS_Feature_Summary.csv', delimiter=\";\")"
   ]
  },
  {
   "cell_type": "markdown",
   "metadata": {},
   "source": [
    "> **Tip**: Add additional cells to keep everything in reasonably-sized chunks! Keyboard shortcut `esc --> a` (press escape to enter command mode, then press the 'A' key) adds a new cell before the active cell, and `esc --> b` adds a new cell after the active cell. If you need to convert an active cell to a markdown cell, use `esc --> m` and to convert to a code cell, use `esc --> y`. \n",
    "\n",
    "## Step 1: Preprocessing\n",
    "\n",
    "### Step 1.1: Assess Missing Data\n",
    "\n",
    "The feature summary file contains a summary of properties for each demographics data column. You will use this file to help you make cleaning decisions during this stage of the project. First of all, you should assess the demographics data in terms of missing data. Pay attention to the following points as you perform your analysis, and take notes on what you observe. Make sure that you fill in the **Discussion** cell with your findings and decisions at the end of each step that has one!\n",
    "\n",
    "#### Step 1.1.1: Convert Missing Value Codes to NaNs\n",
    "The fourth column of the feature attributes summary (loaded in above as `feat_info`) documents the codes from the data dictionary that indicate missing or unknown data. While the file encodes this as a list (e.g. `[-1,0]`), this will get read in as a string object. You'll need to do a little bit of parsing to make use of it to identify and clean the data. Convert data that matches a 'missing' or 'unknown' value code into a numpy NaN value. You might want to see how much data takes on a 'missing' or 'unknown' code, and how much data is naturally missing, as a point of interest.\n",
    "\n",
    "**As one more reminder, you are encouraged to add additional cells to break up your analysis into manageable chunks.**"
   ]
  },
  {
   "cell_type": "code",
   "execution_count": 5,
   "metadata": {},
   "outputs": [
    {
     "name": "stdout",
     "output_type": "stream",
     "text": [
      "<class 'pandas.core.frame.DataFrame'>\n",
      "RangeIndex: 85 entries, 0 to 84\n",
      "Data columns (total 4 columns):\n",
      "attribute             85 non-null object\n",
      "information_level     85 non-null object\n",
      "type                  85 non-null object\n",
      "missing_or_unknown    85 non-null object\n",
      "dtypes: object(4)\n",
      "memory usage: 2.7+ KB\n"
     ]
    },
    {
     "data": {
      "text/html": [
       "<div>\n",
       "<style scoped>\n",
       "    .dataframe tbody tr th:only-of-type {\n",
       "        vertical-align: middle;\n",
       "    }\n",
       "\n",
       "    .dataframe tbody tr th {\n",
       "        vertical-align: top;\n",
       "    }\n",
       "\n",
       "    .dataframe thead th {\n",
       "        text-align: right;\n",
       "    }\n",
       "</style>\n",
       "<table border=\"1\" class=\"dataframe\">\n",
       "  <thead>\n",
       "    <tr style=\"text-align: right;\">\n",
       "      <th></th>\n",
       "      <th>attribute</th>\n",
       "      <th>information_level</th>\n",
       "      <th>type</th>\n",
       "      <th>missing_or_unknown</th>\n",
       "    </tr>\n",
       "  </thead>\n",
       "  <tbody>\n",
       "    <tr>\n",
       "      <th>0</th>\n",
       "      <td>AGER_TYP</td>\n",
       "      <td>person</td>\n",
       "      <td>categorical</td>\n",
       "      <td>[-1,0]</td>\n",
       "    </tr>\n",
       "    <tr>\n",
       "      <th>1</th>\n",
       "      <td>ALTERSKATEGORIE_GROB</td>\n",
       "      <td>person</td>\n",
       "      <td>ordinal</td>\n",
       "      <td>[-1,0,9]</td>\n",
       "    </tr>\n",
       "    <tr>\n",
       "      <th>2</th>\n",
       "      <td>ANREDE_KZ</td>\n",
       "      <td>person</td>\n",
       "      <td>categorical</td>\n",
       "      <td>[-1,0]</td>\n",
       "    </tr>\n",
       "    <tr>\n",
       "      <th>3</th>\n",
       "      <td>CJT_GESAMTTYP</td>\n",
       "      <td>person</td>\n",
       "      <td>categorical</td>\n",
       "      <td>[0]</td>\n",
       "    </tr>\n",
       "    <tr>\n",
       "      <th>4</th>\n",
       "      <td>FINANZ_MINIMALIST</td>\n",
       "      <td>person</td>\n",
       "      <td>ordinal</td>\n",
       "      <td>[-1]</td>\n",
       "    </tr>\n",
       "    <tr>\n",
       "      <th>5</th>\n",
       "      <td>FINANZ_SPARER</td>\n",
       "      <td>person</td>\n",
       "      <td>ordinal</td>\n",
       "      <td>[-1]</td>\n",
       "    </tr>\n",
       "    <tr>\n",
       "      <th>6</th>\n",
       "      <td>FINANZ_VORSORGER</td>\n",
       "      <td>person</td>\n",
       "      <td>ordinal</td>\n",
       "      <td>[-1]</td>\n",
       "    </tr>\n",
       "    <tr>\n",
       "      <th>7</th>\n",
       "      <td>FINANZ_ANLEGER</td>\n",
       "      <td>person</td>\n",
       "      <td>ordinal</td>\n",
       "      <td>[-1]</td>\n",
       "    </tr>\n",
       "    <tr>\n",
       "      <th>8</th>\n",
       "      <td>FINANZ_UNAUFFAELLIGER</td>\n",
       "      <td>person</td>\n",
       "      <td>ordinal</td>\n",
       "      <td>[-1]</td>\n",
       "    </tr>\n",
       "    <tr>\n",
       "      <th>9</th>\n",
       "      <td>FINANZ_HAUSBAUER</td>\n",
       "      <td>person</td>\n",
       "      <td>ordinal</td>\n",
       "      <td>[-1]</td>\n",
       "    </tr>\n",
       "    <tr>\n",
       "      <th>10</th>\n",
       "      <td>FINANZTYP</td>\n",
       "      <td>person</td>\n",
       "      <td>categorical</td>\n",
       "      <td>[-1]</td>\n",
       "    </tr>\n",
       "    <tr>\n",
       "      <th>11</th>\n",
       "      <td>GEBURTSJAHR</td>\n",
       "      <td>person</td>\n",
       "      <td>numeric</td>\n",
       "      <td>[0]</td>\n",
       "    </tr>\n",
       "    <tr>\n",
       "      <th>12</th>\n",
       "      <td>GFK_URLAUBERTYP</td>\n",
       "      <td>person</td>\n",
       "      <td>categorical</td>\n",
       "      <td>[]</td>\n",
       "    </tr>\n",
       "    <tr>\n",
       "      <th>13</th>\n",
       "      <td>GREEN_AVANTGARDE</td>\n",
       "      <td>person</td>\n",
       "      <td>categorical</td>\n",
       "      <td>[]</td>\n",
       "    </tr>\n",
       "    <tr>\n",
       "      <th>14</th>\n",
       "      <td>HEALTH_TYP</td>\n",
       "      <td>person</td>\n",
       "      <td>ordinal</td>\n",
       "      <td>[-1,0]</td>\n",
       "    </tr>\n",
       "    <tr>\n",
       "      <th>15</th>\n",
       "      <td>LP_LEBENSPHASE_FEIN</td>\n",
       "      <td>person</td>\n",
       "      <td>mixed</td>\n",
       "      <td>[0]</td>\n",
       "    </tr>\n",
       "    <tr>\n",
       "      <th>16</th>\n",
       "      <td>LP_LEBENSPHASE_GROB</td>\n",
       "      <td>person</td>\n",
       "      <td>mixed</td>\n",
       "      <td>[0]</td>\n",
       "    </tr>\n",
       "    <tr>\n",
       "      <th>17</th>\n",
       "      <td>LP_FAMILIE_FEIN</td>\n",
       "      <td>person</td>\n",
       "      <td>categorical</td>\n",
       "      <td>[0]</td>\n",
       "    </tr>\n",
       "    <tr>\n",
       "      <th>18</th>\n",
       "      <td>LP_FAMILIE_GROB</td>\n",
       "      <td>person</td>\n",
       "      <td>categorical</td>\n",
       "      <td>[0]</td>\n",
       "    </tr>\n",
       "    <tr>\n",
       "      <th>19</th>\n",
       "      <td>LP_STATUS_FEIN</td>\n",
       "      <td>person</td>\n",
       "      <td>categorical</td>\n",
       "      <td>[0]</td>\n",
       "    </tr>\n",
       "    <tr>\n",
       "      <th>20</th>\n",
       "      <td>LP_STATUS_GROB</td>\n",
       "      <td>person</td>\n",
       "      <td>categorical</td>\n",
       "      <td>[0]</td>\n",
       "    </tr>\n",
       "    <tr>\n",
       "      <th>21</th>\n",
       "      <td>NATIONALITAET_KZ</td>\n",
       "      <td>person</td>\n",
       "      <td>categorical</td>\n",
       "      <td>[-1,0]</td>\n",
       "    </tr>\n",
       "    <tr>\n",
       "      <th>22</th>\n",
       "      <td>PRAEGENDE_JUGENDJAHRE</td>\n",
       "      <td>person</td>\n",
       "      <td>mixed</td>\n",
       "      <td>[-1,0]</td>\n",
       "    </tr>\n",
       "    <tr>\n",
       "      <th>23</th>\n",
       "      <td>RETOURTYP_BK_S</td>\n",
       "      <td>person</td>\n",
       "      <td>ordinal</td>\n",
       "      <td>[0]</td>\n",
       "    </tr>\n",
       "    <tr>\n",
       "      <th>24</th>\n",
       "      <td>SEMIO_SOZ</td>\n",
       "      <td>person</td>\n",
       "      <td>ordinal</td>\n",
       "      <td>[-1,9]</td>\n",
       "    </tr>\n",
       "    <tr>\n",
       "      <th>25</th>\n",
       "      <td>SEMIO_FAM</td>\n",
       "      <td>person</td>\n",
       "      <td>ordinal</td>\n",
       "      <td>[-1,9]</td>\n",
       "    </tr>\n",
       "    <tr>\n",
       "      <th>26</th>\n",
       "      <td>SEMIO_REL</td>\n",
       "      <td>person</td>\n",
       "      <td>ordinal</td>\n",
       "      <td>[-1,9]</td>\n",
       "    </tr>\n",
       "    <tr>\n",
       "      <th>27</th>\n",
       "      <td>SEMIO_MAT</td>\n",
       "      <td>person</td>\n",
       "      <td>ordinal</td>\n",
       "      <td>[-1,9]</td>\n",
       "    </tr>\n",
       "    <tr>\n",
       "      <th>28</th>\n",
       "      <td>SEMIO_VERT</td>\n",
       "      <td>person</td>\n",
       "      <td>ordinal</td>\n",
       "      <td>[-1,9]</td>\n",
       "    </tr>\n",
       "    <tr>\n",
       "      <th>29</th>\n",
       "      <td>SEMIO_LUST</td>\n",
       "      <td>person</td>\n",
       "      <td>ordinal</td>\n",
       "      <td>[-1,9]</td>\n",
       "    </tr>\n",
       "    <tr>\n",
       "      <th>...</th>\n",
       "      <td>...</td>\n",
       "      <td>...</td>\n",
       "      <td>...</td>\n",
       "      <td>...</td>\n",
       "    </tr>\n",
       "    <tr>\n",
       "      <th>54</th>\n",
       "      <td>MIN_GEBAEUDEJAHR</td>\n",
       "      <td>building</td>\n",
       "      <td>numeric</td>\n",
       "      <td>[0]</td>\n",
       "    </tr>\n",
       "    <tr>\n",
       "      <th>55</th>\n",
       "      <td>OST_WEST_KZ</td>\n",
       "      <td>building</td>\n",
       "      <td>categorical</td>\n",
       "      <td>[-1]</td>\n",
       "    </tr>\n",
       "    <tr>\n",
       "      <th>56</th>\n",
       "      <td>WOHNLAGE</td>\n",
       "      <td>building</td>\n",
       "      <td>mixed</td>\n",
       "      <td>[-1]</td>\n",
       "    </tr>\n",
       "    <tr>\n",
       "      <th>57</th>\n",
       "      <td>CAMEO_DEUG_2015</td>\n",
       "      <td>microcell_rr4</td>\n",
       "      <td>categorical</td>\n",
       "      <td>[-1,X]</td>\n",
       "    </tr>\n",
       "    <tr>\n",
       "      <th>58</th>\n",
       "      <td>CAMEO_DEU_2015</td>\n",
       "      <td>microcell_rr4</td>\n",
       "      <td>categorical</td>\n",
       "      <td>[XX]</td>\n",
       "    </tr>\n",
       "    <tr>\n",
       "      <th>59</th>\n",
       "      <td>CAMEO_INTL_2015</td>\n",
       "      <td>microcell_rr4</td>\n",
       "      <td>mixed</td>\n",
       "      <td>[-1,XX]</td>\n",
       "    </tr>\n",
       "    <tr>\n",
       "      <th>60</th>\n",
       "      <td>KBA05_ANTG1</td>\n",
       "      <td>microcell_rr3</td>\n",
       "      <td>ordinal</td>\n",
       "      <td>[-1]</td>\n",
       "    </tr>\n",
       "    <tr>\n",
       "      <th>61</th>\n",
       "      <td>KBA05_ANTG2</td>\n",
       "      <td>microcell_rr3</td>\n",
       "      <td>ordinal</td>\n",
       "      <td>[-1]</td>\n",
       "    </tr>\n",
       "    <tr>\n",
       "      <th>62</th>\n",
       "      <td>KBA05_ANTG3</td>\n",
       "      <td>microcell_rr3</td>\n",
       "      <td>ordinal</td>\n",
       "      <td>[-1]</td>\n",
       "    </tr>\n",
       "    <tr>\n",
       "      <th>63</th>\n",
       "      <td>KBA05_ANTG4</td>\n",
       "      <td>microcell_rr3</td>\n",
       "      <td>ordinal</td>\n",
       "      <td>[-1]</td>\n",
       "    </tr>\n",
       "    <tr>\n",
       "      <th>64</th>\n",
       "      <td>KBA05_BAUMAX</td>\n",
       "      <td>microcell_rr3</td>\n",
       "      <td>mixed</td>\n",
       "      <td>[-1,0]</td>\n",
       "    </tr>\n",
       "    <tr>\n",
       "      <th>65</th>\n",
       "      <td>KBA05_GBZ</td>\n",
       "      <td>microcell_rr3</td>\n",
       "      <td>ordinal</td>\n",
       "      <td>[-1,0]</td>\n",
       "    </tr>\n",
       "    <tr>\n",
       "      <th>66</th>\n",
       "      <td>BALLRAUM</td>\n",
       "      <td>postcode</td>\n",
       "      <td>ordinal</td>\n",
       "      <td>[-1]</td>\n",
       "    </tr>\n",
       "    <tr>\n",
       "      <th>67</th>\n",
       "      <td>EWDICHTE</td>\n",
       "      <td>postcode</td>\n",
       "      <td>ordinal</td>\n",
       "      <td>[-1]</td>\n",
       "    </tr>\n",
       "    <tr>\n",
       "      <th>68</th>\n",
       "      <td>INNENSTADT</td>\n",
       "      <td>postcode</td>\n",
       "      <td>ordinal</td>\n",
       "      <td>[-1]</td>\n",
       "    </tr>\n",
       "    <tr>\n",
       "      <th>69</th>\n",
       "      <td>GEBAEUDETYP_RASTER</td>\n",
       "      <td>region_rr1</td>\n",
       "      <td>ordinal</td>\n",
       "      <td>[]</td>\n",
       "    </tr>\n",
       "    <tr>\n",
       "      <th>70</th>\n",
       "      <td>KKK</td>\n",
       "      <td>region_rr1</td>\n",
       "      <td>ordinal</td>\n",
       "      <td>[-1,0]</td>\n",
       "    </tr>\n",
       "    <tr>\n",
       "      <th>71</th>\n",
       "      <td>MOBI_REGIO</td>\n",
       "      <td>region_rr1</td>\n",
       "      <td>ordinal</td>\n",
       "      <td>[]</td>\n",
       "    </tr>\n",
       "    <tr>\n",
       "      <th>72</th>\n",
       "      <td>ONLINE_AFFINITAET</td>\n",
       "      <td>region_rr1</td>\n",
       "      <td>ordinal</td>\n",
       "      <td>[]</td>\n",
       "    </tr>\n",
       "    <tr>\n",
       "      <th>73</th>\n",
       "      <td>REGIOTYP</td>\n",
       "      <td>region_rr1</td>\n",
       "      <td>ordinal</td>\n",
       "      <td>[-1,0]</td>\n",
       "    </tr>\n",
       "    <tr>\n",
       "      <th>74</th>\n",
       "      <td>KBA13_ANZAHL_PKW</td>\n",
       "      <td>macrocell_plz8</td>\n",
       "      <td>numeric</td>\n",
       "      <td>[]</td>\n",
       "    </tr>\n",
       "    <tr>\n",
       "      <th>75</th>\n",
       "      <td>PLZ8_ANTG1</td>\n",
       "      <td>macrocell_plz8</td>\n",
       "      <td>ordinal</td>\n",
       "      <td>[-1]</td>\n",
       "    </tr>\n",
       "    <tr>\n",
       "      <th>76</th>\n",
       "      <td>PLZ8_ANTG2</td>\n",
       "      <td>macrocell_plz8</td>\n",
       "      <td>ordinal</td>\n",
       "      <td>[-1]</td>\n",
       "    </tr>\n",
       "    <tr>\n",
       "      <th>77</th>\n",
       "      <td>PLZ8_ANTG3</td>\n",
       "      <td>macrocell_plz8</td>\n",
       "      <td>ordinal</td>\n",
       "      <td>[-1]</td>\n",
       "    </tr>\n",
       "    <tr>\n",
       "      <th>78</th>\n",
       "      <td>PLZ8_ANTG4</td>\n",
       "      <td>macrocell_plz8</td>\n",
       "      <td>ordinal</td>\n",
       "      <td>[-1]</td>\n",
       "    </tr>\n",
       "    <tr>\n",
       "      <th>79</th>\n",
       "      <td>PLZ8_BAUMAX</td>\n",
       "      <td>macrocell_plz8</td>\n",
       "      <td>mixed</td>\n",
       "      <td>[-1,0]</td>\n",
       "    </tr>\n",
       "    <tr>\n",
       "      <th>80</th>\n",
       "      <td>PLZ8_HHZ</td>\n",
       "      <td>macrocell_plz8</td>\n",
       "      <td>ordinal</td>\n",
       "      <td>[-1]</td>\n",
       "    </tr>\n",
       "    <tr>\n",
       "      <th>81</th>\n",
       "      <td>PLZ8_GBZ</td>\n",
       "      <td>macrocell_plz8</td>\n",
       "      <td>ordinal</td>\n",
       "      <td>[-1]</td>\n",
       "    </tr>\n",
       "    <tr>\n",
       "      <th>82</th>\n",
       "      <td>ARBEIT</td>\n",
       "      <td>community</td>\n",
       "      <td>ordinal</td>\n",
       "      <td>[-1,9]</td>\n",
       "    </tr>\n",
       "    <tr>\n",
       "      <th>83</th>\n",
       "      <td>ORTSGR_KLS9</td>\n",
       "      <td>community</td>\n",
       "      <td>ordinal</td>\n",
       "      <td>[-1,0]</td>\n",
       "    </tr>\n",
       "  </tbody>\n",
       "</table>\n",
       "<p>84 rows × 4 columns</p>\n",
       "</div>"
      ],
      "text/plain": [
       "                attribute information_level         type missing_or_unknown\n",
       "0                AGER_TYP            person  categorical             [-1,0]\n",
       "1    ALTERSKATEGORIE_GROB            person      ordinal           [-1,0,9]\n",
       "2               ANREDE_KZ            person  categorical             [-1,0]\n",
       "3           CJT_GESAMTTYP            person  categorical                [0]\n",
       "4       FINANZ_MINIMALIST            person      ordinal               [-1]\n",
       "5           FINANZ_SPARER            person      ordinal               [-1]\n",
       "6        FINANZ_VORSORGER            person      ordinal               [-1]\n",
       "7          FINANZ_ANLEGER            person      ordinal               [-1]\n",
       "8   FINANZ_UNAUFFAELLIGER            person      ordinal               [-1]\n",
       "9        FINANZ_HAUSBAUER            person      ordinal               [-1]\n",
       "10              FINANZTYP            person  categorical               [-1]\n",
       "11            GEBURTSJAHR            person      numeric                [0]\n",
       "12        GFK_URLAUBERTYP            person  categorical                 []\n",
       "13       GREEN_AVANTGARDE            person  categorical                 []\n",
       "14             HEALTH_TYP            person      ordinal             [-1,0]\n",
       "15    LP_LEBENSPHASE_FEIN            person        mixed                [0]\n",
       "16    LP_LEBENSPHASE_GROB            person        mixed                [0]\n",
       "17        LP_FAMILIE_FEIN            person  categorical                [0]\n",
       "18        LP_FAMILIE_GROB            person  categorical                [0]\n",
       "19         LP_STATUS_FEIN            person  categorical                [0]\n",
       "20         LP_STATUS_GROB            person  categorical                [0]\n",
       "21       NATIONALITAET_KZ            person  categorical             [-1,0]\n",
       "22  PRAEGENDE_JUGENDJAHRE            person        mixed             [-1,0]\n",
       "23         RETOURTYP_BK_S            person      ordinal                [0]\n",
       "24              SEMIO_SOZ            person      ordinal             [-1,9]\n",
       "25              SEMIO_FAM            person      ordinal             [-1,9]\n",
       "26              SEMIO_REL            person      ordinal             [-1,9]\n",
       "27              SEMIO_MAT            person      ordinal             [-1,9]\n",
       "28             SEMIO_VERT            person      ordinal             [-1,9]\n",
       "29             SEMIO_LUST            person      ordinal             [-1,9]\n",
       "..                    ...               ...          ...                ...\n",
       "54       MIN_GEBAEUDEJAHR          building      numeric                [0]\n",
       "55            OST_WEST_KZ          building  categorical               [-1]\n",
       "56               WOHNLAGE          building        mixed               [-1]\n",
       "57        CAMEO_DEUG_2015     microcell_rr4  categorical             [-1,X]\n",
       "58         CAMEO_DEU_2015     microcell_rr4  categorical               [XX]\n",
       "59        CAMEO_INTL_2015     microcell_rr4        mixed            [-1,XX]\n",
       "60            KBA05_ANTG1     microcell_rr3      ordinal               [-1]\n",
       "61            KBA05_ANTG2     microcell_rr3      ordinal               [-1]\n",
       "62            KBA05_ANTG3     microcell_rr3      ordinal               [-1]\n",
       "63            KBA05_ANTG4     microcell_rr3      ordinal               [-1]\n",
       "64           KBA05_BAUMAX     microcell_rr3        mixed             [-1,0]\n",
       "65              KBA05_GBZ     microcell_rr3      ordinal             [-1,0]\n",
       "66               BALLRAUM          postcode      ordinal               [-1]\n",
       "67               EWDICHTE          postcode      ordinal               [-1]\n",
       "68             INNENSTADT          postcode      ordinal               [-1]\n",
       "69     GEBAEUDETYP_RASTER        region_rr1      ordinal                 []\n",
       "70                    KKK        region_rr1      ordinal             [-1,0]\n",
       "71             MOBI_REGIO        region_rr1      ordinal                 []\n",
       "72      ONLINE_AFFINITAET        region_rr1      ordinal                 []\n",
       "73               REGIOTYP        region_rr1      ordinal             [-1,0]\n",
       "74       KBA13_ANZAHL_PKW    macrocell_plz8      numeric                 []\n",
       "75             PLZ8_ANTG1    macrocell_plz8      ordinal               [-1]\n",
       "76             PLZ8_ANTG2    macrocell_plz8      ordinal               [-1]\n",
       "77             PLZ8_ANTG3    macrocell_plz8      ordinal               [-1]\n",
       "78             PLZ8_ANTG4    macrocell_plz8      ordinal               [-1]\n",
       "79            PLZ8_BAUMAX    macrocell_plz8        mixed             [-1,0]\n",
       "80               PLZ8_HHZ    macrocell_plz8      ordinal               [-1]\n",
       "81               PLZ8_GBZ    macrocell_plz8      ordinal               [-1]\n",
       "82                 ARBEIT         community      ordinal             [-1,9]\n",
       "83            ORTSGR_KLS9         community      ordinal             [-1,0]\n",
       "\n",
       "[84 rows x 4 columns]"
      ]
     },
     "execution_count": 5,
     "metadata": {},
     "output_type": "execute_result"
    }
   ],
   "source": [
    "# Identify missing or unknown data values and convert them to NaNs.\n",
    "feat_info.info()\n",
    "feat_info.head(84)\n"
   ]
  },
  {
   "cell_type": "markdown",
   "metadata": {},
   "source": [
    "#### Step 1.1.2: Assess Missing Data in Each Column\n",
    "\n",
    "How much missing data is present in each column? There are a few columns that are outliers in terms of the proportion of values that are missing. You will want to use matplotlib's [`hist()`](https://matplotlib.org/api/_as_gen/matplotlib.pyplot.hist.html) function to visualize the distribution of missing value counts to find these columns. Identify and document these columns. While some of these columns might have justifications for keeping or re-encoding the data, for this project you should just remove them from the dataframe. (Feel free to make remarks about these outlier columns in the discussion, however!)\n",
    "\n",
    "For the remaining features, are there any patterns in which columns have, or share, missing data?"
   ]
  },
  {
   "cell_type": "code",
   "execution_count": 6,
   "metadata": {},
   "outputs": [],
   "source": [
    "# Perform an assessment of how much missing data there is in each column of the\n",
    "# dataset.\n",
    "def get_missing_value(str):\n",
    "    try:\n",
    "        return int(str)\n",
    "    except:\n",
    "        return str\n",
    "    \n",
    "for i in range(len(feat_info)):\n",
    "    feat_info.loc[i,'missing_or_unknown'] = feat_info.loc[i, 'missing_or_unknown'].strip('[]').split(',')\n",
    "    feat_info.loc[i,'missing_or_unknown'] = [get_missing_value(j) for j in feat_info.loc[i,'missing_or_unknown']]\n",
    "    azdias.loc[:,(feat_info.loc[i, 'attribute'])].replace(feat_info.loc[i,'missing_or_unknown'], np.nan, inplace=True)"
   ]
  },
  {
   "cell_type": "code",
   "execution_count": 7,
   "metadata": {},
   "outputs": [
    {
     "data": {
      "image/png": "[encoded data removed]",
      "text/plain": [
       "<matplotlib.figure.Figure at 0x7efe246e2518>"
      ]
     },
     "metadata": {
      "needs_background": "light"
     },
     "output_type": "display_data"
    }
   ],
   "source": [
    "# Investigate patterns in the amount of missing data in each column.\n",
    "percent_of_missing_values = (azdias.isnull().sum()/ len(azdias)) * 100\n",
    "\n",
    "plt.figure(figsize=[10,8])\n",
    "plt.hist(percent_of_missing_values, bins = 85, color='#0504aa')\n",
    "plt.xlabel('Percentage of missing values',fontsize=15)\n",
    "plt.ylabel('Number of Columns',fontsize=15)\n",
    "plt.title('Missing Counts in the Features',fontsize=15)\n",
    "plt.show()\n"
   ]
  },
  {
   "cell_type": "code",
   "execution_count": 8,
   "metadata": {},
   "outputs": [
    {
     "name": "stdout",
     "output_type": "stream",
     "text": [
      "AGER_TYP        76.955435\n",
      "GEBURTSJAHR     44.020282\n",
      "TITEL_KZ        99.757636\n",
      "ALTER_HH        34.813699\n",
      "KK_KUNDENTYP    65.596749\n",
      "KBA05_BAUMAX    53.468668\n",
      "dtype: float64\n"
     ]
    }
   ],
   "source": [
    "# Remove the outlier columns from the dataset. (You'll perform other data\n",
    "# engineering tasks such as re-encoding and imputation later.)\n",
    "missing_columns_gt_20p = percent_of_missing_values[percent_of_missing_values > 20]\n",
    "print(missing_columns_gt_20p)"
   ]
  },
  {
   "cell_type": "code",
   "execution_count": 9,
   "metadata": {},
   "outputs": [],
   "source": [
    "drop_col_list = missing_columns_gt_20p.index.tolist()"
   ]
  },
  {
   "cell_type": "code",
   "execution_count": 10,
   "metadata": {},
   "outputs": [],
   "source": [
    "azdias = azdias.drop(drop_col_list, axis=1)"
   ]
  },
  {
   "cell_type": "code",
   "execution_count": 11,
   "metadata": {},
   "outputs": [
    {
     "name": "stdout",
     "output_type": "stream",
     "text": [
      "['ALTERSKATEGORIE_GROB', 'ANREDE_KZ', 'CJT_GESAMTTYP', 'FINANZ_MINIMALIST', 'FINANZ_SPARER', 'FINANZ_VORSORGER', 'FINANZ_ANLEGER', 'FINANZ_UNAUFFAELLIGER', 'FINANZ_HAUSBAUER', 'FINANZTYP', 'GFK_URLAUBERTYP', 'GREEN_AVANTGARDE', 'HEALTH_TYP', 'LP_LEBENSPHASE_FEIN', 'LP_LEBENSPHASE_GROB', 'LP_FAMILIE_FEIN', 'LP_FAMILIE_GROB', 'LP_STATUS_FEIN', 'LP_STATUS_GROB', 'NATIONALITAET_KZ', 'PRAEGENDE_JUGENDJAHRE', 'RETOURTYP_BK_S', 'SEMIO_SOZ', 'SEMIO_FAM', 'SEMIO_REL', 'SEMIO_MAT', 'SEMIO_VERT', 'SEMIO_LUST', 'SEMIO_ERL', 'SEMIO_KULT', 'SEMIO_RAT', 'SEMIO_KRIT', 'SEMIO_DOM', 'SEMIO_KAEM', 'SEMIO_PFLICHT', 'SEMIO_TRADV', 'SHOPPER_TYP', 'SOHO_KZ', 'VERS_TYP', 'ZABEOTYP', 'ANZ_PERSONEN', 'ANZ_TITEL', 'HH_EINKOMMEN_SCORE', 'W_KEIT_KIND_HH', 'WOHNDAUER_2008', 'ANZ_HAUSHALTE_AKTIV', 'ANZ_HH_TITEL', 'GEBAEUDETYP', 'KONSUMNAEHE', 'MIN_GEBAEUDEJAHR', 'OST_WEST_KZ', 'WOHNLAGE', 'CAMEO_DEUG_2015', 'CAMEO_DEU_2015', 'CAMEO_INTL_2015', 'KBA05_ANTG1', 'KBA05_ANTG2', 'KBA05_ANTG3', 'KBA05_ANTG4', 'KBA05_GBZ', 'BALLRAUM', 'EWDICHTE', 'INNENSTADT', 'GEBAEUDETYP_RASTER', 'KKK', 'MOBI_REGIO', 'ONLINE_AFFINITAET', 'REGIOTYP', 'KBA13_ANZAHL_PKW', 'PLZ8_ANTG1', 'PLZ8_ANTG2', 'PLZ8_ANTG3', 'PLZ8_ANTG4', 'PLZ8_BAUMAX', 'PLZ8_HHZ', 'PLZ8_GBZ', 'ARBEIT', 'ORTSGR_KLS9', 'RELAT_AB']\n",
      "79\n"
     ]
    }
   ],
   "source": [
    "print(list(azdias.columns))\n",
    "print(len(azdias.columns))"
   ]
  },
  {
   "cell_type": "code",
   "execution_count": null,
   "metadata": {},
   "outputs": [],
   "source": []
  },
  {
   "cell_type": "markdown",
   "metadata": {},
   "source": [
    "#### Discussion 1.1.2: Assess Missing Data in Each Column\n",
    "\n",
    "There are 6 columns which have missing values of greater than 20 percent. \n",
    "Those columns are - AGER_TYP,GEBURTSJAHR,TITEL_KZ,ALTER_HH ,KK_KUNDENTYP,KBA05_BAUMAX. \n",
    "Removing these columns will not result more loss of information. There are more number of columns which have less than 20 percent missing values, so it may not be good idea to remove those columns."
   ]
  },
  {
   "cell_type": "markdown",
   "metadata": {},
   "source": [
    "#### Step 1.1.3: Assess Missing Data in Each Row\n",
    "\n",
    "Now, you'll perform a similar assessment for the rows of the dataset. How much data is missing in each row? As with the columns, you should see some groups of points that have a very different numbers of missing values. Divide the data into two subsets: one for data points that are above some threshold for missing values, and a second subset for points below that threshold.\n",
    "\n",
    "In order to know what to do with the outlier rows, we should see if the distribution of data values on columns that are not missing data (or are missing very little data) are similar or different between the two groups. Select at least five of these columns and compare the distribution of values.\n",
    "- You can use seaborn's [`countplot()`](https://seaborn.pydata.org/generated/seaborn.countplot.html) function to create a bar chart of code frequencies and matplotlib's [`subplot()`](https://matplotlib.org/api/_as_gen/matplotlib.pyplot.subplot.html) function to put bar charts for the two subplots side by side.\n",
    "- To reduce repeated code, you might want to write a function that can perform this comparison, taking as one of its arguments a column to be compared.\n",
    "\n",
    "Depending on what you observe in your comparison, this will have implications on how you approach your conclusions later in the analysis. If the distributions of non-missing features look similar between the data with many missing values and the data with few or no missing values, then we could argue that simply dropping those points from the analysis won't present a major issue. On the other hand, if the data with many missing values looks very different from the data with few or no missing values, then we should make a note on those data as special. We'll revisit these data later on. **Either way, you should continue your analysis for now using just the subset of the data with few or no missing values.**"
   ]
  },
  {
   "cell_type": "code",
   "execution_count": 12,
   "metadata": {},
   "outputs": [
    {
     "name": "stdout",
     "output_type": "stream",
     "text": [
      "268012\n"
     ]
    }
   ],
   "source": [
    "# How much data is missing in each row of the dataset?\n",
    "print(sum(azdias.isnull().any(axis=1)))"
   ]
  },
  {
   "cell_type": "code",
   "execution_count": 13,
   "metadata": {},
   "outputs": [],
   "source": [
    "# Write code to divide the data into two subsets based on the number of missing\n",
    "# values in each row.\n",
    "azdias_less_10 = azdias[azdias.isnull().sum(axis=1) <= 10]\n",
    "azdias_greater_10 = azdias[azdias.isnull().sum(axis=1) > 10]\n"
   ]
  },
  {
   "cell_type": "code",
   "execution_count": 14,
   "metadata": {},
   "outputs": [
    {
     "name": "stdout",
     "output_type": "stream",
     "text": [
      "87.53754680376697\n",
      "12.462453196233033\n"
     ]
    }
   ],
   "source": [
    "print(len(azdias_less_10)  * 100 /len(azdias))\n",
    "print(len(azdias_greater_10) * 100 /len(azdias))"
   ]
  },
  {
   "cell_type": "code",
   "execution_count": 15,
   "metadata": {},
   "outputs": [],
   "source": [
    "# Compare the distribution of values for at least five columns where there are\n",
    "# no or few missing values, between the two subsets.\n",
    "zero_missing_coloumns = percent_of_missing_values[percent_of_missing_values==0].index.tolist()\n"
   ]
  },
  {
   "cell_type": "code",
   "execution_count": 16,
   "metadata": {},
   "outputs": [
    {
     "name": "stdout",
     "output_type": "stream",
     "text": [
      "['ANREDE_KZ', 'FINANZ_MINIMALIST', 'FINANZ_SPARER', 'FINANZ_VORSORGER', 'FINANZ_ANLEGER', 'FINANZ_UNAUFFAELLIGER', 'FINANZ_HAUSBAUER', 'FINANZTYP', 'GREEN_AVANTGARDE', 'SEMIO_SOZ', 'SEMIO_FAM', 'SEMIO_REL', 'SEMIO_MAT', 'SEMIO_VERT', 'SEMIO_LUST', 'SEMIO_ERL', 'SEMIO_KULT', 'SEMIO_RAT', 'SEMIO_KRIT', 'SEMIO_DOM', 'SEMIO_KAEM', 'SEMIO_PFLICHT', 'SEMIO_TRADV', 'ZABEOTYP']\n",
      "24\n"
     ]
    }
   ],
   "source": [
    "print(zero_missing_coloumns)\n",
    "print(len(zero_missing_coloumns))"
   ]
  },
  {
   "cell_type": "code",
   "execution_count": 17,
   "metadata": {},
   "outputs": [
    {
     "name": "stdout",
     "output_type": "stream",
     "text": [
      "['ANREDE_KZ', 'FINANZ_MINIMALIST', 'FINANZ_SPARER', 'FINANZ_VORSORGER', 'FINANZ_ANLEGER', 'FINANZ_UNAUFFAELLIGER', 'FINANZ_HAUSBAUER']\n"
     ]
    }
   ],
   "source": [
    "seven_zero_missing_coloumns =  zero_missing_coloumns[:7]\n",
    "print(seven_zero_missing_coloumns)"
   ]
  },
  {
   "cell_type": "code",
   "execution_count": 18,
   "metadata": {},
   "outputs": [
    {
     "data": {
      "image/png": "[encoded data removed]",
      "text/plain": [
       "<matplotlib.figure.Figure at 0x7efe246e22e8>"
      ]
     },
     "metadata": {
      "needs_background": "light"
     },
     "output_type": "display_data"
    }
   ],
   "source": [
    "fig, axes = plt.subplots(nrows= len(seven_zero_missing_coloumns), ncols=2, figsize=(25,25))\n",
    "fig.subplots_adjust(hspace = 1, wspace=.3)\n",
    "n = 0\n",
    "for column in seven_zero_missing_coloumns:\n",
    "    axes[n,0].set_title('Rows with less than 10 columns with missing values')\n",
    "    sns.countplot(azdias_less_10.loc[:, column], ax=axes[n,0])\n",
    "    axes[n,1].set_title('Rows with greater than 10 columns with missing values')\n",
    "    sns.countplot(azdias_greater_10.loc[:, column], ax=axes[n,1])\n",
    "    n+=1\n"
   ]
  },
  {
   "cell_type": "markdown",
   "metadata": {},
   "source": [
    "#### Discussion 1.1.3: Assess Missing Data in Each Row\n",
    "\n",
    "There are almost 12.46 % rows having more than 10 columns with missing data. In the data , there are 55 columns which have missing data. It may not be wise to drop all the 55 columns which may result in loss of information.\n",
    "Yes the data with >10 missing values exhibit different behaviour from data <10 missing values.  "
   ]
  },
  {
   "cell_type": "markdown",
   "metadata": {},
   "source": [
    "### Step 1.2: Select and Re-Encode Features\n",
    "\n",
    "Checking for missing data isn't the only way in which you can prepare a dataset for analysis. Since the unsupervised learning techniques to be used will only work on data that is encoded numerically, you need to make a few encoding changes or additional assumptions to be able to make progress. In addition, while almost all of the values in the dataset are encoded using numbers, not all of them represent numeric values. Check the third column of the feature summary (`feat_info`) for a summary of types of measurement.\n",
    "- For numeric and interval data, these features can be kept without changes.\n",
    "- Most of the variables in the dataset are ordinal in nature. While ordinal values may technically be non-linear in spacing, make the simplifying assumption that the ordinal variables can be treated as being interval in nature (that is, kept without any changes).\n",
    "- Special handling may be necessary for the remaining two variable types: categorical, and 'mixed'.\n",
    "\n",
    "In the first two parts of this sub-step, you will perform an investigation of the categorical and mixed-type features and make a decision on each of them, whether you will keep, drop, or re-encode each. Then, in the last part, you will create a new data frame with only the selected and engineered columns.\n",
    "\n",
    "Data wrangling is often the trickiest part of the data analysis process, and there's a lot of it to be done here. But stick with it: once you're done with this step, you'll be ready to get to the machine learning parts of the project!"
   ]
  },
  {
   "cell_type": "code",
   "execution_count": 19,
   "metadata": {},
   "outputs": [
    {
     "data": {
      "text/html": [
       "<div>\n",
       "<style scoped>\n",
       "    .dataframe tbody tr th:only-of-type {\n",
       "        vertical-align: middle;\n",
       "    }\n",
       "\n",
       "    .dataframe tbody tr th {\n",
       "        vertical-align: top;\n",
       "    }\n",
       "\n",
       "    .dataframe thead th {\n",
       "        text-align: right;\n",
       "    }\n",
       "</style>\n",
       "<table border=\"1\" class=\"dataframe\">\n",
       "  <thead>\n",
       "    <tr style=\"text-align: right;\">\n",
       "      <th></th>\n",
       "      <th>attribute</th>\n",
       "      <th>information_level</th>\n",
       "      <th>missing_or_unknown</th>\n",
       "    </tr>\n",
       "    <tr>\n",
       "      <th>type</th>\n",
       "      <th></th>\n",
       "      <th></th>\n",
       "      <th></th>\n",
       "    </tr>\n",
       "  </thead>\n",
       "  <tbody>\n",
       "    <tr>\n",
       "      <th>categorical</th>\n",
       "      <td>21</td>\n",
       "      <td>21</td>\n",
       "      <td>21</td>\n",
       "    </tr>\n",
       "    <tr>\n",
       "      <th>interval</th>\n",
       "      <td>1</td>\n",
       "      <td>1</td>\n",
       "      <td>1</td>\n",
       "    </tr>\n",
       "    <tr>\n",
       "      <th>mixed</th>\n",
       "      <td>7</td>\n",
       "      <td>7</td>\n",
       "      <td>7</td>\n",
       "    </tr>\n",
       "    <tr>\n",
       "      <th>numeric</th>\n",
       "      <td>7</td>\n",
       "      <td>7</td>\n",
       "      <td>7</td>\n",
       "    </tr>\n",
       "    <tr>\n",
       "      <th>ordinal</th>\n",
       "      <td>49</td>\n",
       "      <td>49</td>\n",
       "      <td>49</td>\n",
       "    </tr>\n",
       "  </tbody>\n",
       "</table>\n",
       "</div>"
      ],
      "text/plain": [
       "             attribute  information_level  missing_or_unknown\n",
       "type                                                         \n",
       "categorical         21                 21                  21\n",
       "interval             1                  1                   1\n",
       "mixed                7                  7                   7\n",
       "numeric              7                  7                   7\n",
       "ordinal             49                 49                  49"
      ]
     },
     "execution_count": 19,
     "metadata": {},
     "output_type": "execute_result"
    }
   ],
   "source": [
    "# How many features are there of each data type?\n",
    "feat_info.groupby('type').count()"
   ]
  },
  {
   "cell_type": "markdown",
   "metadata": {},
   "source": [
    "#### Step 1.2.1: Re-Encode Categorical Features\n",
    "\n",
    "For categorical data, you would ordinarily need to encode the levels as dummy variables. Depending on the number of categories, perform one of the following:\n",
    "- For binary (two-level) categoricals that take numeric values, you can keep them without needing to do anything.\n",
    "- There is one binary variable that takes on non-numeric values. For this one, you need to re-encode the values as numbers or create a dummy variable.\n",
    "- For multi-level categoricals (three or more values), you can choose to encode the values using multiple dummy variables (e.g. via [OneHotEncoder](http://scikit-learn.org/stable/modules/generated/sklearn.preprocessing.OneHotEncoder.html)), or (to keep things straightforward) just drop them from the analysis. As always, document your choices in the Discussion section."
   ]
  },
  {
   "cell_type": "code",
   "execution_count": 20,
   "metadata": {},
   "outputs": [
    {
     "name": "stdout",
     "output_type": "stream",
     "text": [
      "['AGER_TYP' 'ANREDE_KZ' 'CJT_GESAMTTYP' 'FINANZTYP' 'GFK_URLAUBERTYP'\n",
      " 'GREEN_AVANTGARDE' 'LP_FAMILIE_FEIN' 'LP_FAMILIE_GROB' 'LP_STATUS_FEIN'\n",
      " 'LP_STATUS_GROB' 'NATIONALITAET_KZ' 'SHOPPER_TYP' 'SOHO_KZ' 'TITEL_KZ'\n",
      " 'VERS_TYP' 'ZABEOTYP' 'KK_KUNDENTYP' 'GEBAEUDETYP' 'OST_WEST_KZ'\n",
      " 'CAMEO_DEUG_2015' 'CAMEO_DEU_2015']\n",
      "['AGER_TYP', 'GEBURTSJAHR', 'TITEL_KZ', 'ALTER_HH', 'KK_KUNDENTYP', 'KBA05_BAUMAX']\n",
      "['CAMEO_DEU_2015', 'ZABEOTYP', 'GEBAEUDETYP', 'FINANZTYP', 'LP_STATUS_GROB', 'LP_STATUS_FEIN', 'LP_FAMILIE_GROB', 'VERS_TYP', 'GREEN_AVANTGARDE', 'SOHO_KZ', 'CJT_GESAMTTYP', 'LP_FAMILIE_FEIN', 'NATIONALITAET_KZ', 'GFK_URLAUBERTYP', 'OST_WEST_KZ', 'SHOPPER_TYP', 'CAMEO_DEUG_2015', 'ANREDE_KZ']\n",
      "['VERS_TYP', 'GREEN_AVANTGARDE', 'SOHO_KZ', 'OST_WEST_KZ', 'ANREDE_KZ']\n",
      "['CAMEO_DEU_2015', 'ZABEOTYP', 'GEBAEUDETYP', 'FINANZTYP', 'LP_STATUS_GROB', 'LP_STATUS_FEIN', 'LP_FAMILIE_GROB', 'CJT_GESAMTTYP', 'LP_FAMILIE_FEIN', 'NATIONALITAET_KZ', 'GFK_URLAUBERTYP', 'SHOPPER_TYP', 'CAMEO_DEUG_2015']\n",
      "['CAMEO_DEU_2015', 'LP_STATUS_FEIN', 'LP_FAMILIE_FEIN', 'GFK_URLAUBERTYP']\n"
     ]
    },
    {
     "data": {
      "text/plain": [
       "CAMEO_DEU_2015      44\n",
       "ZABEOTYP             6\n",
       "GEBAEUDETYP          7\n",
       "FINANZTYP            6\n",
       "LP_STATUS_GROB       5\n",
       "LP_STATUS_FEIN      10\n",
       "LP_FAMILIE_GROB      5\n",
       "VERS_TYP             2\n",
       "GREEN_AVANTGARDE     2\n",
       "SOHO_KZ              2\n",
       "CJT_GESAMTTYP        6\n",
       "LP_FAMILIE_FEIN     11\n",
       "NATIONALITAET_KZ     3\n",
       "GFK_URLAUBERTYP     12\n",
       "OST_WEST_KZ          2\n",
       "SHOPPER_TYP          4\n",
       "CAMEO_DEUG_2015      9\n",
       "ANREDE_KZ            2\n",
       "dtype: int64"
      ]
     },
     "execution_count": 20,
     "metadata": {},
     "output_type": "execute_result"
    }
   ],
   "source": [
    "# Assess categorical variables: which are binary, which are multi-level, and\n",
    "# which one needs to be re-encoded?\n",
    "categorical = feat_info[feat_info['type'] == 'categorical']['attribute'].values\n",
    "print(categorical)\n",
    "print(drop_col_list)\n",
    "categorical = list(set(categorical)-set(drop_col_list))\n",
    "print(categorical)\n",
    "binary = [x for x in categorical if azdias[x].nunique()==2 ]\n",
    "print(binary)\n",
    "multi_level = [x for x in categorical if azdias[x].nunique()>2]\n",
    "print(multi_level)\n",
    "\n",
    "multi_level_10 = [x for x in categorical if azdias[x].nunique()>=10]\n",
    "print(multi_level_10)\n",
    "azdias[categorical].nunique()"
   ]
  },
  {
   "cell_type": "code",
   "execution_count": 21,
   "metadata": {},
   "outputs": [],
   "source": [
    "# Re-encode categorical variable(s) to be kept in the analysis.\n",
    "azdias_final = azdias_less_10.drop(multi_level_10, axis=1)\n"
   ]
  },
  {
   "cell_type": "code",
   "execution_count": 22,
   "metadata": {},
   "outputs": [
    {
     "data": {
      "text/plain": [
       "75"
      ]
     },
     "execution_count": 22,
     "metadata": {},
     "output_type": "execute_result"
    }
   ],
   "source": [
    "len(azdias_final.columns)"
   ]
  },
  {
   "cell_type": "code",
   "execution_count": 23,
   "metadata": {},
   "outputs": [],
   "source": [
    "azdias_final.loc[:, 'OST_WEST_KZ'].replace({'W':0, 'O':1}, inplace=True)"
   ]
  },
  {
   "cell_type": "code",
   "execution_count": 24,
   "metadata": {},
   "outputs": [
    {
     "name": "stdout",
     "output_type": "stream",
     "text": [
      "['CAMEO_DEU_2015', 'ZABEOTYP', 'GEBAEUDETYP', 'FINANZTYP', 'LP_STATUS_GROB', 'LP_STATUS_FEIN', 'CJT_GESAMTTYP', 'LP_FAMILIE_FEIN', 'NATIONALITAET_KZ', 'GFK_URLAUBERTYP', 'LP_FAMILIE_GROB', 'SHOPPER_TYP', 'CAMEO_DEUG_2015']\n",
      "['ZABEOTYP', 'GEBAEUDETYP', 'FINANZTYP', 'LP_STATUS_GROB', 'CJT_GESAMTTYP', 'NATIONALITAET_KZ', 'LP_FAMILIE_GROB', 'SHOPPER_TYP', 'CAMEO_DEUG_2015']\n"
     ]
    }
   ],
   "source": [
    "multi_level = list(set(multi_level)-set(drop_col_list))\n",
    "print(multi_level)\n",
    "\n",
    "multi_level = list(set(multi_level)-set(multi_level_10))\n",
    "print(multi_level)"
   ]
  },
  {
   "cell_type": "code",
   "execution_count": 25,
   "metadata": {},
   "outputs": [
    {
     "name": "stdout",
     "output_type": "stream",
     "text": [
      "True\n",
      "75\n"
     ]
    }
   ],
   "source": [
    "print('FINANZTYP' in list(azdias_final.columns))\n",
    "print(len(azdias_final.columns))"
   ]
  },
  {
   "cell_type": "code",
   "execution_count": 26,
   "metadata": {},
   "outputs": [],
   "source": [
    "for column in multi_level:\n",
    "    data = azdias_final[column][azdias_final[column].notnull()]\n",
    "    dummies = pd.get_dummies(data, prefix=column)\n",
    "    azdias_final = azdias_final.join(dummies)\n",
    "    azdias_final.drop([column], axis=1, inplace=True)"
   ]
  },
  {
   "cell_type": "markdown",
   "metadata": {},
   "source": [
    "#### Discussion 1.2.1: Re-Encode Categorical Features\n",
    "\n",
    "Removed all the features with greater than 10 different levels because these features will create lot of dummy variable and give less information. Also, mapped 'W' and 'O' to 0 and 1 respectively."
   ]
  },
  {
   "cell_type": "markdown",
   "metadata": {},
   "source": [
    "#### Step 1.2.2: Engineer Mixed-Type Features\n",
    "\n",
    "There are a handful of features that are marked as \"mixed\" in the feature summary that require special treatment in order to be included in the analysis. There are two in particular that deserve attention; the handling of the rest are up to your own choices:\n",
    "- \"PRAEGENDE_JUGENDJAHRE\" combines information on three dimensions: generation by decade, movement (mainstream vs. avantgarde), and nation (east vs. west). While there aren't enough levels to disentangle east from west, you should create two new variables to capture the other two dimensions: an interval-type variable for decade, and a binary variable for movement.\n",
    "- \"CAMEO_INTL_2015\" combines information on two axes: wealth and life stage. Break up the two-digit codes by their 'tens'-place and 'ones'-place digits into two new ordinal variables (which, for the purposes of this project, is equivalent to just treating them as their raw numeric values).\n",
    "- If you decide to keep or engineer new features around the other mixed-type features, make sure you note your steps in the Discussion section.\n",
    "\n",
    "Be sure to check `Data_Dictionary.md` for the details needed to finish these tasks."
   ]
  },
  {
   "cell_type": "code",
   "execution_count": 27,
   "metadata": {},
   "outputs": [
    {
     "name": "stdout",
     "output_type": "stream",
     "text": [
      "['LP_LEBENSPHASE_FEIN', 'LP_LEBENSPHASE_GROB', 'PRAEGENDE_JUGENDJAHRE', 'WOHNLAGE', 'CAMEO_INTL_2015', 'PLZ8_BAUMAX']\n"
     ]
    }
   ],
   "source": [
    "# Investigate \"PRAEGENDE_JUGENDJAHRE\" and engineer two new variables.\n",
    "mixed = feat_info[feat_info['type'] == 'mixed']['attribute'].values\n",
    "mixed = [x for x in mixed if x in azdias_final.columns]\n",
    "print(mixed)"
   ]
  },
  {
   "cell_type": "code",
   "execution_count": 28,
   "metadata": {},
   "outputs": [
    {
     "name": "stdout",
     "output_type": "stream",
     "text": [
      "[ 14.  15.   8.   3.  10.  11.   5.   9.   6.   4.  nan   2.   1.  12.  13.\n",
      "   7.]\n"
     ]
    }
   ],
   "source": [
    "print(azdias_final.PRAEGENDE_JUGENDJAHRE.unique())"
   ]
  },
  {
   "cell_type": "code",
   "execution_count": 29,
   "metadata": {},
   "outputs": [
    {
     "name": "stdout",
     "output_type": "stream",
     "text": [
      "[ 21.   3.  nan  32.   8.   2.   5.  10.   4.   6.  23.  12.  20.   1.  25.\n",
      "  13.  18.  31.  38.  35.  30.   7.  22.  14.  29.  24.  28.  37.  26.  39.\n",
      "  27.  36.   9.  34.  33.  15.  11.  40.  16.  19.  17.]\n"
     ]
    }
   ],
   "source": [
    "print(azdias_final.LP_LEBENSPHASE_FEIN.unique())"
   ]
  },
  {
   "cell_type": "code",
   "execution_count": 30,
   "metadata": {},
   "outputs": [],
   "source": [
    "x = [x+1 for x in range(15)]\n",
    "y = [1, 1, 2, 2, 3, 3, 3, 4, 4, 5, 5, 5, 5, 6, 6]\n",
    "decade = pd.Series(y, index = x)\n",
    "azdias_final['PRAEGENDE_JUGENDJAHRE_DECADE'] = azdias_final['PRAEGENDE_JUGENDJAHRE'].map(decade)\n",
    "\n",
    "mainstream_vals = [1, 3, 5, 8, 10, 12, 14]\n",
    "avantgarde_vals = [2, 4, 6, 7, 9, 11, 13, 15]\n",
    "def get_binary_val(x):\n",
    "    if x in mainstream_vals:\n",
    "        return 1\n",
    "    elif x in avantgarde_vals:\n",
    "        return 0\n",
    "    else:\n",
    "        return x\n",
    "\n",
    "azdias_final['PRAEGENDE_JUGENDJAHRE_MOVEMENT'] = azdias_final['PRAEGENDE_JUGENDJAHRE'].apply(get_binary_val)\n",
    "\n"
   ]
  },
  {
   "cell_type": "code",
   "execution_count": 31,
   "metadata": {},
   "outputs": [
    {
     "name": "stdout",
     "output_type": "stream",
     "text": [
      "Index(['ALTERSKATEGORIE_GROB', 'ANREDE_KZ', 'FINANZ_MINIMALIST',\n",
      "       'FINANZ_SPARER', 'FINANZ_VORSORGER', 'FINANZ_ANLEGER',\n",
      "       'FINANZ_UNAUFFAELLIGER', 'FINANZ_HAUSBAUER', 'GREEN_AVANTGARDE',\n",
      "       'HEALTH_TYP',\n",
      "       ...\n",
      "       'CAMEO_DEUG_2015_2', 'CAMEO_DEUG_2015_3', 'CAMEO_DEUG_2015_4',\n",
      "       'CAMEO_DEUG_2015_5', 'CAMEO_DEUG_2015_6', 'CAMEO_DEUG_2015_7',\n",
      "       'CAMEO_DEUG_2015_8', 'CAMEO_DEUG_2015_9',\n",
      "       'PRAEGENDE_JUGENDJAHRE_DECADE', 'PRAEGENDE_JUGENDJAHRE_MOVEMENT'],\n",
      "      dtype='object', length=119)\n"
     ]
    }
   ],
   "source": [
    "print(azdias_final.columns)"
   ]
  },
  {
   "cell_type": "code",
   "execution_count": 32,
   "metadata": {},
   "outputs": [
    {
     "name": "stdout",
     "output_type": "stream",
     "text": [
      "776497\n"
     ]
    }
   ],
   "source": [
    "print(len(azdias_final.loc[azdias_final['CAMEO_INTL_2015'].notnull(),'CAMEO_INTL_2015'] ))"
   ]
  },
  {
   "cell_type": "code",
   "execution_count": 33,
   "metadata": {},
   "outputs": [
    {
     "name": "stdout",
     "output_type": "stream",
     "text": [
      "Index(['ALTERSKATEGORIE_GROB', 'ANREDE_KZ', 'FINANZ_MINIMALIST',\n",
      "       'FINANZ_SPARER', 'FINANZ_VORSORGER', 'FINANZ_ANLEGER',\n",
      "       'FINANZ_UNAUFFAELLIGER', 'FINANZ_HAUSBAUER', 'GREEN_AVANTGARDE',\n",
      "       'HEALTH_TYP',\n",
      "       ...\n",
      "       'CAMEO_DEUG_2015_2', 'CAMEO_DEUG_2015_3', 'CAMEO_DEUG_2015_4',\n",
      "       'CAMEO_DEUG_2015_5', 'CAMEO_DEUG_2015_6', 'CAMEO_DEUG_2015_7',\n",
      "       'CAMEO_DEUG_2015_8', 'CAMEO_DEUG_2015_9',\n",
      "       'PRAEGENDE_JUGENDJAHRE_DECADE', 'PRAEGENDE_JUGENDJAHRE_MOVEMENT'],\n",
      "      dtype='object', length=119)\n"
     ]
    }
   ],
   "source": [
    "print(azdias_final.columns)"
   ]
  },
  {
   "cell_type": "code",
   "execution_count": 34,
   "metadata": {},
   "outputs": [],
   "source": [
    "# Investigate \"CAMEO_INTL_2015\" and engineer two new variables.\n",
    "def get_wealth_value(x):\n",
    "    return int(str(x)[0])\n",
    "def get_lifestage_value(x):\n",
    "    return int(str(x)[1])\n",
    "\n",
    "azdias_final.loc[azdias_final['CAMEO_INTL_2015'].notnull(),'CAMEO_INTL_2015_WEALTH'] = azdias_final.loc[azdias_final['CAMEO_INTL_2015'].notnull(),'CAMEO_INTL_2015'].apply(get_wealth_value)\n",
    "azdias_final.loc[azdias_final['CAMEO_INTL_2015'].notnull(),'CAMEO_INTL_2015_LIFESTAGE'] = azdias_final.loc[azdias_final['CAMEO_INTL_2015'].notnull(),'CAMEO_INTL_2015'].apply(get_lifestage_value)\n"
   ]
  },
  {
   "cell_type": "code",
   "execution_count": 35,
   "metadata": {},
   "outputs": [
    {
     "name": "stdout",
     "output_type": "stream",
     "text": [
      "Index(['ALTERSKATEGORIE_GROB', 'ANREDE_KZ', 'FINANZ_MINIMALIST',\n",
      "       'FINANZ_SPARER', 'FINANZ_VORSORGER', 'FINANZ_ANLEGER',\n",
      "       'FINANZ_UNAUFFAELLIGER', 'FINANZ_HAUSBAUER', 'GREEN_AVANTGARDE',\n",
      "       'HEALTH_TYP',\n",
      "       ...\n",
      "       'CAMEO_DEUG_2015_4', 'CAMEO_DEUG_2015_5', 'CAMEO_DEUG_2015_6',\n",
      "       'CAMEO_DEUG_2015_7', 'CAMEO_DEUG_2015_8', 'CAMEO_DEUG_2015_9',\n",
      "       'PRAEGENDE_JUGENDJAHRE_DECADE', 'PRAEGENDE_JUGENDJAHRE_MOVEMENT',\n",
      "       'CAMEO_INTL_2015_WEALTH', 'CAMEO_INTL_2015_LIFESTAGE'],\n",
      "      dtype='object', length=121)\n"
     ]
    }
   ],
   "source": [
    "print(azdias_final.columns)"
   ]
  },
  {
   "cell_type": "markdown",
   "metadata": {},
   "source": [
    "#### Discussion 1.2.2: Engineer Mixed-Type Features\n",
    "\n",
    "Retained Mixed-type features PRAEGENDE_JUGENDJAHRE and CAMEO_INTL_2015 and split them into two features each. \n",
    "Dropped LP_LEBENSPHASE_FEIN', 'LP_LEBENSPHASE_GROB',  'WOHNLAGE', 'PLZ8_BAUMAX' mixed features"
   ]
  },
  {
   "cell_type": "markdown",
   "metadata": {},
   "source": [
    "#### Step 1.2.3: Complete Feature Selection\n",
    "\n",
    "In order to finish this step up, you need to make sure that your data frame now only has the columns that you want to keep. To summarize, the dataframe should consist of the following:\n",
    "- All numeric, interval, and ordinal type columns from the original dataset.\n",
    "- Binary categorical features (all numerically-encoded).\n",
    "- Engineered features from other multi-level categorical features and mixed features.\n",
    "\n",
    "Make sure that for any new columns that you have engineered, that you've excluded the original columns from the final dataset. Otherwise, their values will interfere with the analysis later on the project. For example, you should not keep \"PRAEGENDE_JUGENDJAHRE\", since its values won't be useful for the algorithm: only the values derived from it in the engineered features you created should be retained. As a reminder, your data should only be from **the subset with few or no missing values**."
   ]
  },
  {
   "cell_type": "code",
   "execution_count": 36,
   "metadata": {},
   "outputs": [],
   "source": [
    "# If there are other re-engineering tasks you need to perform, make sure you\n",
    "# take care of them here. (Dealing with missing data will come in step 2.1.)\n",
    "\n"
   ]
  },
  {
   "cell_type": "code",
   "execution_count": 37,
   "metadata": {},
   "outputs": [],
   "source": [
    "# Do whatever you need to in order to ensure that the dataframe only contains\n",
    "# the columns that should be passed to the algorithm functions.\n",
    "azdias_final.drop(mixed, axis=1, inplace=True)\n"
   ]
  },
  {
   "cell_type": "code",
   "execution_count": 38,
   "metadata": {},
   "outputs": [
    {
     "name": "stdout",
     "output_type": "stream",
     "text": [
      "['LP_LEBENSPHASE_FEIN', 'LP_LEBENSPHASE_GROB', 'PRAEGENDE_JUGENDJAHRE', 'WOHNLAGE', 'CAMEO_INTL_2015', 'PLZ8_BAUMAX']\n"
     ]
    }
   ],
   "source": [
    "print(mixed)"
   ]
  },
  {
   "cell_type": "code",
   "execution_count": 39,
   "metadata": {},
   "outputs": [
    {
     "name": "stdout",
     "output_type": "stream",
     "text": [
      "['ALTERSKATEGORIE_GROB', 'ANREDE_KZ', 'FINANZ_MINIMALIST', 'FINANZ_SPARER', 'FINANZ_VORSORGER', 'FINANZ_ANLEGER', 'FINANZ_UNAUFFAELLIGER', 'FINANZ_HAUSBAUER', 'GREEN_AVANTGARDE', 'HEALTH_TYP', 'RETOURTYP_BK_S', 'SEMIO_SOZ', 'SEMIO_FAM', 'SEMIO_REL', 'SEMIO_MAT', 'SEMIO_VERT', 'SEMIO_LUST', 'SEMIO_ERL', 'SEMIO_KULT', 'SEMIO_RAT', 'SEMIO_KRIT', 'SEMIO_DOM', 'SEMIO_KAEM', 'SEMIO_PFLICHT', 'SEMIO_TRADV', 'SOHO_KZ', 'VERS_TYP', 'ANZ_PERSONEN', 'ANZ_TITEL', 'HH_EINKOMMEN_SCORE', 'W_KEIT_KIND_HH', 'WOHNDAUER_2008', 'ANZ_HAUSHALTE_AKTIV', 'ANZ_HH_TITEL', 'KONSUMNAEHE', 'MIN_GEBAEUDEJAHR', 'OST_WEST_KZ', 'KBA05_ANTG1', 'KBA05_ANTG2', 'KBA05_ANTG3', 'KBA05_ANTG4', 'KBA05_GBZ', 'BALLRAUM', 'EWDICHTE', 'INNENSTADT', 'GEBAEUDETYP_RASTER', 'KKK', 'MOBI_REGIO', 'ONLINE_AFFINITAET', 'REGIOTYP', 'KBA13_ANZAHL_PKW', 'PLZ8_ANTG1', 'PLZ8_ANTG2', 'PLZ8_ANTG3', 'PLZ8_ANTG4', 'PLZ8_HHZ', 'PLZ8_GBZ', 'ARBEIT', 'ORTSGR_KLS9', 'RELAT_AB', 'ZABEOTYP_1', 'ZABEOTYP_2', 'ZABEOTYP_3', 'ZABEOTYP_4', 'ZABEOTYP_5', 'ZABEOTYP_6', 'GEBAEUDETYP_1.0', 'GEBAEUDETYP_2.0', 'GEBAEUDETYP_3.0', 'GEBAEUDETYP_4.0', 'GEBAEUDETYP_5.0', 'GEBAEUDETYP_6.0', 'GEBAEUDETYP_8.0', 'FINANZTYP_1', 'FINANZTYP_2', 'FINANZTYP_3', 'FINANZTYP_4', 'FINANZTYP_5', 'FINANZTYP_6', 'LP_STATUS_GROB_1.0', 'LP_STATUS_GROB_2.0', 'LP_STATUS_GROB_3.0', 'LP_STATUS_GROB_4.0', 'LP_STATUS_GROB_5.0', 'CJT_GESAMTTYP_1.0', 'CJT_GESAMTTYP_2.0', 'CJT_GESAMTTYP_3.0', 'CJT_GESAMTTYP_4.0', 'CJT_GESAMTTYP_5.0', 'CJT_GESAMTTYP_6.0', 'NATIONALITAET_KZ_1.0', 'NATIONALITAET_KZ_2.0', 'NATIONALITAET_KZ_3.0', 'LP_FAMILIE_GROB_1.0', 'LP_FAMILIE_GROB_2.0', 'LP_FAMILIE_GROB_3.0', 'LP_FAMILIE_GROB_4.0', 'LP_FAMILIE_GROB_5.0', 'SHOPPER_TYP_0.0', 'SHOPPER_TYP_1.0', 'SHOPPER_TYP_2.0', 'SHOPPER_TYP_3.0', 'CAMEO_DEUG_2015_1', 'CAMEO_DEUG_2015_2', 'CAMEO_DEUG_2015_3', 'CAMEO_DEUG_2015_4', 'CAMEO_DEUG_2015_5', 'CAMEO_DEUG_2015_6', 'CAMEO_DEUG_2015_7', 'CAMEO_DEUG_2015_8', 'CAMEO_DEUG_2015_9', 'PRAEGENDE_JUGENDJAHRE_DECADE', 'PRAEGENDE_JUGENDJAHRE_MOVEMENT', 'CAMEO_INTL_2015_WEALTH', 'CAMEO_INTL_2015_LIFESTAGE']\n"
     ]
    }
   ],
   "source": [
    "columns_ = azdias_final.columns\n",
    "print(list(columns_))"
   ]
  },
  {
   "cell_type": "markdown",
   "metadata": {},
   "source": [
    "### Step 1.3: Create a Cleaning Function\n",
    "\n",
    "Even though you've finished cleaning up the general population demographics data, it's important to look ahead to the future and realize that you'll need to perform the same cleaning steps on the customer demographics data. In this substep, complete the function below to execute the main feature selection, encoding, and re-engineering steps you performed above. Then, when it comes to looking at the customer data in Step 3, you can just run this function on that DataFrame to get the trimmed dataset in a single step."
   ]
  },
  {
   "cell_type": "code",
   "execution_count": 40,
   "metadata": {},
   "outputs": [],
   "source": [
    "def clean_data(df):\n",
    "    \"\"\"\n",
    "    Perform feature trimming, re-encoding, and engineering for demographics\n",
    "    data\n",
    "    \n",
    "    INPUT: Demographics DataFrame\n",
    "    OUTPUT: Trimmed and cleaned demographics DataFrame\n",
    "    \"\"\"\n",
    "    \n",
    "    # Put in code here to execute all main cleaning steps:\n",
    "    # convert missing value codes into NaNs, ...\n",
    "    feat_info = pd.read_csv('AZDIAS_Feature_Summary.csv', delimiter=\";\")\n",
    "    print(len(df.columns))\n",
    "    def get_missing_value(str):\n",
    "        try:\n",
    "            return int(str)\n",
    "        except:\n",
    "            return str\n",
    "    \n",
    "    for i in range(len(feat_info)):\n",
    "        feat_info.loc[i,'missing_or_unknown'] = feat_info.loc[i, 'missing_or_unknown'].strip('[]').split(',')\n",
    "        feat_info.loc[i,'missing_or_unknown'] = [get_missing_value(j) for j in feat_info.loc[i,'missing_or_unknown']]\n",
    "        df.loc[:,(feat_info.loc[i, 'attribute'])].replace(feat_info.loc[i,'missing_or_unknown'], np.nan, inplace=True)\n",
    "\n",
    "    # remove selected columns and rows, ...\n",
    "    \n",
    "    df_final = df\n",
    "    print(drop_col_list)\n",
    "    df_final = df_final[df_final.isnull().sum(axis=1) < 10]\n",
    "    print(multi_level_10)\n",
    "    df_final = df_final.drop(drop_col_list, axis = 1)\n",
    "    df_final = df_final.drop(multi_level_10, axis = 1)\n",
    "    \n",
    "    print(len(df_final.columns))\n",
    "    \n",
    "    df_final.loc[:, 'OST_WEST_KZ'].replace({'W':0, 'O':1}, inplace=True)\n",
    "    \n",
    "    for column in multi_level:\n",
    "        data = df_final[column][df_final[column].notnull()]\n",
    "        dummies = pd.get_dummies(data, prefix=column)\n",
    "        df_final = df_final.join(dummies)\n",
    "        df_final.drop([column], axis=1, inplace=True)\n",
    "    \n",
    "    # select, re-encode, and engineer column values.\n",
    "    mixed = feat_info[feat_info['type'] == 'mixed']['attribute'].values\n",
    "    mixed = [x for x in mixed if x in df_final.columns]\n",
    "    \n",
    "    y = [1, 1, 2, 2, 3, 3, 3, 4, 4, 5, 5, 5, 5, 6, 6]\n",
    "    decade = pd.Series(y, index = x)\n",
    "    df_final['PRAEGENDE_JUGENDJAHRE_DECADE'] = df_final['PRAEGENDE_JUGENDJAHRE'].map(decade)\n",
    "\n",
    "    mainstream_vals = [1, 3, 5, 8, 10, 12, 14]\n",
    "    avantgarde_vals = [2, 4, 6, 7, 9, 11, 13, 15]\n",
    "    \n",
    "    def get_binary_val(x):\n",
    "        if x in mainstream_vals:\n",
    "            return 1\n",
    "        elif x in avantgarde_vals:\n",
    "            return 0\n",
    "        else:\n",
    "            return x\n",
    "\n",
    "    df_final['PRAEGENDE_JUGENDJAHRE_MOVEMENT'] = df_final['PRAEGENDE_JUGENDJAHRE'].apply(get_binary_val)\n",
    "    \n",
    "    def get_wealth_value(x):\n",
    "        return int(str(x)[0])\n",
    "    def get_lifestage_value(x):\n",
    "        return int(str(x)[1])\n",
    "\n",
    "    df_final.loc[df_final['CAMEO_INTL_2015'].notnull(),'CAMEO_INTL_2015_WEALTH'] = df_final.loc[df_final['CAMEO_INTL_2015'].notnull(),'CAMEO_INTL_2015'].apply(get_wealth_value)\n",
    "    df_final.loc[df_final['CAMEO_INTL_2015'].notnull(),'CAMEO_INTL_2015_LIFESTAGE'] = df_final.loc[df_final['CAMEO_INTL_2015'].notnull(),'CAMEO_INTL_2015'].apply(get_lifestage_value)\n",
    "\n",
    "    # Return the cleaned dataframe.\n",
    "    df_final.drop(mixed, axis=1, inplace=True)\n",
    "    \n",
    "    print(len(df_final.shape))\n",
    "    \n",
    "    \n",
    "    return df_final\n",
    "    "
   ]
  },
  {
   "cell_type": "markdown",
   "metadata": {},
   "source": [
    "## Step 2: Feature Transformation\n",
    "\n",
    "### Step 2.1: Apply Feature Scaling\n",
    "\n",
    "Before we apply dimensionality reduction techniques to the data, we need to perform feature scaling so that the principal component vectors are not influenced by the natural differences in scale for features. Starting from this part of the project, you'll want to keep an eye on the [API reference page for sklearn](http://scikit-learn.org/stable/modules/classes.html) to help you navigate to all of the classes and functions that you'll need. In this substep, you'll need to check the following:\n",
    "\n",
    "- sklearn requires that data not have missing values in order for its estimators to work properly. So, before applying the scaler to your data, make sure that you've cleaned the DataFrame of the remaining missing values. This can be as simple as just removing all data points with missing data, or applying an [Imputer](http://scikit-learn.org/stable/modules/generated/sklearn.preprocessing.Imputer.html) to replace all missing values. You might also try a more complicated procedure where you temporarily remove missing values in order to compute the scaling parameters before re-introducing those missing values and applying imputation. Think about how much missing data you have and what possible effects each approach might have on your analysis, and justify your decision in the discussion section below.\n",
    "- For the actual scaling function, a [StandardScaler](http://scikit-learn.org/stable/modules/generated/sklearn.preprocessing.StandardScaler.html) instance is suggested, scaling each feature to mean 0 and standard deviation 1.\n",
    "- For these classes, you can make use of the `.fit_transform()` method to both fit a procedure to the data as well as apply the transformation to the data at the same time. Don't forget to keep the fit sklearn objects handy, since you'll be applying them to the customer demographics data towards the end of the project."
   ]
  },
  {
   "cell_type": "code",
   "execution_count": 41,
   "metadata": {},
   "outputs": [],
   "source": [
    "# If you've not yet cleaned the dataset of all NaN values, then investigate and\n",
    "# do that now.\n",
    "from sklearn.preprocessing import Imputer\n",
    "from sklearn.cluster import KMeans\n",
    "from sklearn.preprocessing import StandardScaler\n",
    "from sklearn.decomposition import PCA    \n",
    "from sklearn.preprocessing import LabelEncoder\n"
   ]
  },
  {
   "cell_type": "code",
   "execution_count": 42,
   "metadata": {},
   "outputs": [
    {
     "name": "stdout",
     "output_type": "stream",
     "text": [
      "Index(['ALTERSKATEGORIE_GROB', 'ANREDE_KZ', 'FINANZ_MINIMALIST',\n",
      "       'FINANZ_SPARER', 'FINANZ_VORSORGER', 'FINANZ_ANLEGER',\n",
      "       'FINANZ_UNAUFFAELLIGER', 'FINANZ_HAUSBAUER', 'GREEN_AVANTGARDE',\n",
      "       'HEALTH_TYP',\n",
      "       ...\n",
      "       'CAMEO_DEUG_2015_4', 'CAMEO_DEUG_2015_5', 'CAMEO_DEUG_2015_6',\n",
      "       'CAMEO_DEUG_2015_7', 'CAMEO_DEUG_2015_8', 'CAMEO_DEUG_2015_9',\n",
      "       'PRAEGENDE_JUGENDJAHRE_DECADE', 'PRAEGENDE_JUGENDJAHRE_MOVEMENT',\n",
      "       'CAMEO_INTL_2015_WEALTH', 'CAMEO_INTL_2015_LIFESTAGE'],\n",
      "      dtype='object', length=115)\n"
     ]
    }
   ],
   "source": [
    "fill_data = Imputer(strategy='most_frequent')\n",
    "azdias_final_impute = pd.DataFrame(fill_data.fit_transform(azdias_final), columns=azdias_final.columns)\n",
    "print(azdias_final_impute.columns)"
   ]
  },
  {
   "cell_type": "code",
   "execution_count": 44,
   "metadata": {},
   "outputs": [],
   "source": [
    "# Apply feature scaling to the general population demographics data.\n",
    "scaler = StandardScaler()\n",
    "azdias_final_scaled = pd.DataFrame(scaler.fit_transform(azdias_final_impute) , columns=azdias_final_impute.columns )"
   ]
  },
  {
   "cell_type": "markdown",
   "metadata": {},
   "source": [
    "### Discussion 2.1: Apply Feature Scaling\n",
    "- Imputed misssing data with most frequent values\n",
    "- used StandardScalar to standardize the data to make the relative weight of each variable equal"
   ]
  },
  {
   "cell_type": "markdown",
   "metadata": {},
   "source": [
    "### Step 2.2: Perform Dimensionality Reduction\n",
    "\n",
    "On your scaled data, you are now ready to apply dimensionality reduction techniques.\n",
    "\n",
    "- Use sklearn's [PCA](http://scikit-learn.org/stable/modules/generated/sklearn.decomposition.PCA.html) class to apply principal component analysis on the data, thus finding the vectors of maximal variance in the data. To start, you should not set any parameters (so all components are computed) or set a number of components that is at least half the number of features (so there's enough features to see the general trend in variability).\n",
    "- Check out the ratio of variance explained by each principal component as well as the cumulative variance explained. Try plotting the cumulative or sequential values using matplotlib's [`plot()`](https://matplotlib.org/api/_as_gen/matplotlib.pyplot.plot.html) function. Based on what you find, select a value for the number of transformed features you'll retain for the clustering part of the project.\n",
    "- Once you've made a choice for the number of components to keep, make sure you re-fit a PCA instance to perform the decided-on transformation."
   ]
  },
  {
   "cell_type": "code",
   "execution_count": 45,
   "metadata": {},
   "outputs": [],
   "source": [
    "# Apply PCA to the data.\n",
    "pca = PCA()\n",
    "azdias_pca = pca.fit_transform(azdias_final_scaled)"
   ]
  },
  {
   "cell_type": "code",
   "execution_count": 46,
   "metadata": {},
   "outputs": [
    {
     "data": {
      "image/png": "[encoded data removed]",
      "text/plain": [
       "<matplotlib.figure.Figure at 0x7efe239ce940>"
      ]
     },
     "metadata": {
      "needs_background": "light"
     },
     "output_type": "display_data"
    }
   ],
   "source": [
    "# Investigate the variance accounted for by each principal component.\n",
    "plt.bar(range(len(pca.explained_variance_ratio_)), pca.explained_variance_ratio_)\n",
    "plt.title(\"Variance explained by each component\")\n",
    "plt.xlabel(\"Principal component\")\n",
    "plt.ylabel(\"Ratio of variance explained\")\n",
    "plt.show()\n"
   ]
  },
  {
   "cell_type": "code",
   "execution_count": 47,
   "metadata": {},
   "outputs": [
    {
     "data": {
      "image/png": "[encoded data removed]",
      "text/plain": [
       "<matplotlib.figure.Figure at 0x7efe23905b00>"
      ]
     },
     "metadata": {
      "needs_background": "light"
     },
     "output_type": "display_data"
    }
   ],
   "source": [
    "# Re-apply PCA to the data while selecting for number of components to retain.\n",
    "\n",
    "plt.plot(range(len(pca.explained_variance_ratio_)),np.cumsum(pca.explained_variance_ratio_), '--')\n",
    "plt.title(\"Cumulative Variance Explained\")\n",
    "plt.xlabel(\"Number of Components\")\n",
    "plt.ylabel(\"Ratio of variance explained\")\n",
    "plt.show()\n"
   ]
  },
  {
   "cell_type": "code",
   "execution_count": 48,
   "metadata": {},
   "outputs": [],
   "source": [
    "pca = PCA(n_components=45)\n",
    "azdias_pca = pca.fit_transform(azdias_final_scaled)"
   ]
  },
  {
   "cell_type": "code",
   "execution_count": 51,
   "metadata": {},
   "outputs": [
    {
     "data": {
      "image/png": "[encoded data removed]",
      "text/plain": [
       "<matplotlib.figure.Figure at 0x7efe2399c5f8>"
      ]
     },
     "metadata": {
      "needs_background": "light"
     },
     "output_type": "display_data"
    }
   ],
   "source": [
    "plt.plot(range(len(pca.explained_variance_ratio_)),np.cumsum(pca.explained_variance_ratio_), '--')\n",
    "plt.title(\"Cumulative Variance Explained\")\n",
    "plt.xlabel(\"Number of Components\")\n",
    "plt.ylabel(\"Ratio of variance explained\")\n",
    "plt.show()"
   ]
  },
  {
   "cell_type": "code",
   "execution_count": 52,
   "metadata": {},
   "outputs": [
    {
     "data": {
      "text/plain": [
       "0.79126735473617182"
      ]
     },
     "execution_count": 52,
     "metadata": {},
     "output_type": "execute_result"
    }
   ],
   "source": [
    "pca.explained_variance_ratio_.sum()"
   ]
  },
  {
   "cell_type": "markdown",
   "metadata": {},
   "source": [
    "### Discussion 2.2: Perform Dimensionality Reduction\n",
    "I am retaining 45 components for the next step of analysis since it acheives nearly 80% cumulative explained variance.\n"
   ]
  },
  {
   "cell_type": "markdown",
   "metadata": {},
   "source": [
    "### Step 2.3: Interpret Principal Components\n",
    "\n",
    "Now that we have our transformed principal components, it's a nice idea to check out the weight of each variable on the first few components to see if they can be interpreted in some fashion.\n",
    "\n",
    "As a reminder, each principal component is a unit vector that points in the direction of highest variance (after accounting for the variance captured by earlier principal components). The further a weight is from zero, the more the principal component is in the direction of the corresponding feature. If two features have large weights of the same sign (both positive or both negative), then increases in one tend expect to be associated with increases in the other. To contrast, features with different signs can be expected to show a negative correlation: increases in one variable should result in a decrease in the other.\n",
    "\n",
    "- To investigate the features, you should map each weight to their corresponding feature name, then sort the features according to weight. The most interesting features for each principal component, then, will be those at the beginning and end of the sorted list. Use the data dictionary document to help you understand these most prominent features, their relationships, and what a positive or negative value on the principal component might indicate.\n",
    "- You should investigate and interpret feature associations from the first three principal components in this substep. To help facilitate this, you should write a function that you can call at any time to print the sorted list of feature weights, for the *i*-th principal component. This might come in handy in the next step of the project, when you interpret the tendencies of the discovered clusters."
   ]
  },
  {
   "cell_type": "code",
   "execution_count": 53,
   "metadata": {},
   "outputs": [],
   "source": [
    "# Map weights for the first principal component to corresponding feature names\n",
    "# and then print the linked values, sorted by weight.\n",
    "# HINT: Try defining a function here or in a new cell that you can reuse in the\n",
    "# other cells.\n",
    "def pca_weights(pca, i):\n",
    "    df = pd.DataFrame(pca.components_, columns=list(azdias_final_scaled.columns))\n",
    "    weights = df.iloc[i].sort_values(ascending=False)\n",
    "    return weights\n"
   ]
  },
  {
   "cell_type": "code",
   "execution_count": 54,
   "metadata": {},
   "outputs": [
    {
     "name": "stdout",
     "output_type": "stream",
     "text": [
      "ALTERSKATEGORIE_GROB            0.228747\n",
      "FINANZ_VORSORGER                0.212221\n",
      "ZABEOTYP_3                      0.206561\n",
      "SEMIO_ERL                       0.192371\n",
      "SEMIO_LUST                      0.160625\n",
      "RETOURTYP_BK_S                  0.154653\n",
      "W_KEIT_KIND_HH                  0.120689\n",
      "FINANZ_HAUSBAUER                0.114564\n",
      "CJT_GESAMTTYP_2.0               0.106129\n",
      "PLZ8_ANTG3                      0.094368\n",
      "FINANZTYP_5                     0.094127\n",
      "SEMIO_KRIT                      0.092303\n",
      "PLZ8_ANTG4                      0.089361\n",
      "EWDICHTE                        0.086387\n",
      "ORTSGR_KLS9                     0.085867\n",
      "CAMEO_INTL_2015_WEALTH          0.083932\n",
      "SEMIO_KAEM                      0.083155\n",
      "FINANZTYP_2                     0.083115\n",
      "SHOPPER_TYP_3.0                 0.077821\n",
      "KBA05_ANTG4                     0.071984\n",
      "LP_FAMILIE_GROB_1.0             0.069920\n",
      "CJT_GESAMTTYP_1.0               0.069529\n",
      "ARBEIT                          0.066914\n",
      "HH_EINKOMMEN_SCORE              0.065622\n",
      "FINANZTYP_6                     0.065466\n",
      "PLZ8_ANTG2                      0.064790\n",
      "ANZ_HAUSHALTE_AKTIV             0.064048\n",
      "RELAT_AB                        0.062750\n",
      "ANREDE_KZ                       0.062649\n",
      "NATIONALITAET_KZ_1.0            0.061870\n",
      "                                  ...   \n",
      "CJT_GESAMTTYP_4.0              -0.056262\n",
      "SHOPPER_TYP_0.0                -0.061573\n",
      "LP_FAMILIE_GROB_4.0            -0.066339\n",
      "INNENSTADT                     -0.069859\n",
      "KONSUMNAEHE                    -0.070010\n",
      "PLZ8_GBZ                       -0.072780\n",
      "ANZ_PERSONEN                   -0.073484\n",
      "SEMIO_SOZ                      -0.076263\n",
      "KBA05_ANTG1                    -0.078684\n",
      "ZABEOTYP_1                     -0.081074\n",
      "ZABEOTYP_5                     -0.083727\n",
      "FINANZTYP_3                    -0.084977\n",
      "MOBI_REGIO                     -0.085213\n",
      "KBA05_GBZ                      -0.090332\n",
      "PLZ8_ANTG1                     -0.093590\n",
      "FINANZTYP_4                    -0.094581\n",
      "ZABEOTYP_4                     -0.099454\n",
      "FINANZTYP_1                    -0.113725\n",
      "SEMIO_MAT                      -0.133038\n",
      "SEMIO_FAM                      -0.145911\n",
      "SEMIO_RAT                      -0.156316\n",
      "ONLINE_AFFINITAET              -0.167931\n",
      "SEMIO_KULT                     -0.179886\n",
      "FINANZ_ANLEGER                 -0.190543\n",
      "SEMIO_PFLICHT                  -0.201380\n",
      "SEMIO_TRADV                    -0.207521\n",
      "FINANZ_UNAUFFAELLIGER          -0.211848\n",
      "FINANZ_SPARER                  -0.213189\n",
      "SEMIO_REL                      -0.217711\n",
      "PRAEGENDE_JUGENDJAHRE_DECADE   -0.222970\n",
      "Name: 1, Length: 115, dtype: float64\n"
     ]
    }
   ],
   "source": [
    "# Map weights for the second principal component to corresponding feature names\n",
    "# and then print the linked values, sorted by weight.\n",
    "pca_wt2 = pca_weights(pca, 1)\n",
    "print (pca_wt2)\n"
   ]
  },
  {
   "cell_type": "code",
   "execution_count": 55,
   "metadata": {},
   "outputs": [
    {
     "name": "stdout",
     "output_type": "stream",
     "text": [
      "SEMIO_VERT                        0.325876\n",
      "SEMIO_SOZ                         0.257282\n",
      "SEMIO_FAM                         0.254989\n",
      "SEMIO_KULT                        0.241814\n",
      "FINANZTYP_5                       0.142250\n",
      "FINANZ_MINIMALIST                 0.134353\n",
      "SHOPPER_TYP_0.0                   0.125301\n",
      "ZABEOTYP_1                        0.106607\n",
      "SEMIO_REL                         0.096521\n",
      "RETOURTYP_BK_S                    0.090306\n",
      "SEMIO_MAT                         0.076390\n",
      "W_KEIT_KIND_HH                    0.076145\n",
      "FINANZ_VORSORGER                  0.070291\n",
      "ORTSGR_KLS9                       0.056786\n",
      "EWDICHTE                          0.056556\n",
      "GREEN_AVANTGARDE                  0.054649\n",
      "ZABEOTYP_6                        0.053077\n",
      "PLZ8_ANTG3                        0.051952\n",
      "PLZ8_ANTG4                        0.051686\n",
      "SHOPPER_TYP_1.0                   0.049978\n",
      "ALTERSKATEGORIE_GROB              0.040198\n",
      "SEMIO_LUST                        0.038444\n",
      "ARBEIT                            0.036330\n",
      "PLZ8_ANTG2                        0.036237\n",
      "LP_STATUS_GROB_5.0                0.036013\n",
      "RELAT_AB                          0.035155\n",
      "KBA05_ANTG4                       0.029933\n",
      "CAMEO_INTL_2015_WEALTH            0.029799\n",
      "GEBAEUDETYP_3.0                   0.029520\n",
      "ANZ_HAUSHALTE_AKTIV               0.027395\n",
      "                                    ...   \n",
      "GEBAEUDETYP_1.0                  -0.029745\n",
      "ZABEOTYP_5                       -0.032947\n",
      "NATIONALITAET_KZ_3.0             -0.033273\n",
      "CJT_GESAMTTYP_6.0                -0.035183\n",
      "ONLINE_AFFINITAET                -0.039631\n",
      "GEBAEUDETYP_RASTER               -0.039651\n",
      "PLZ8_GBZ                         -0.040313\n",
      "SEMIO_TRADV                      -0.040760\n",
      "BALLRAUM                         -0.043586\n",
      "FINANZ_HAUSBAUER                 -0.045544\n",
      "SEMIO_PFLICHT                    -0.046029\n",
      "SHOPPER_TYP_3.0                  -0.046088\n",
      "KONSUMNAEHE                      -0.047005\n",
      "LP_FAMILIE_GROB_3.0              -0.050541\n",
      "INNENSTADT                       -0.051630\n",
      "PLZ8_ANTG1                       -0.052099\n",
      "PRAEGENDE_JUGENDJAHRE_MOVEMENT   -0.054649\n",
      "ZABEOTYP_4                       -0.071016\n",
      "FINANZ_UNAUFFAELLIGER            -0.071316\n",
      "FINANZ_SPARER                    -0.076091\n",
      "PRAEGENDE_JUGENDJAHRE_DECADE     -0.079277\n",
      "SHOPPER_TYP_2.0                  -0.097653\n",
      "FINANZTYP_1                      -0.111661\n",
      "FINANZ_ANLEGER                   -0.165503\n",
      "SEMIO_RAT                        -0.177036\n",
      "SEMIO_ERL                        -0.193893\n",
      "SEMIO_KRIT                       -0.266994\n",
      "SEMIO_DOM                        -0.294770\n",
      "SEMIO_KAEM                       -0.322508\n",
      "ANREDE_KZ                        -0.351164\n",
      "Name: 2, Length: 115, dtype: float64\n"
     ]
    }
   ],
   "source": [
    "# Map weights for the third principal component to corresponding feature names\n",
    "# and then print the linked values, sorted by weight.\n",
    "pca_wt3 = pca_weights(pca, 2)\n",
    "print (pca_wt3)\n",
    "\n"
   ]
  },
  {
   "cell_type": "markdown",
   "metadata": {},
   "source": [
    "### Discussion 2.3: Interpret Principal Components\n",
    "\n",
    "In the PCA analysis negative values of loadings of variable in the components of the PCA means the existence of an inverse correlation between the factor PCA and the variables and positive vales indicates the existences of correlation between PCA and variables.\n",
    "\n",
    "\n",
    "Interpretetion of Component - 1:\n",
    "\n",
    "- Estimated age      \n",
    "- Finacially be prepared             \n",
    "- Energy consumption fair supplied             \n",
    "- Personality event oriented               \n",
    "- Personality Sensually minded oriented                 \n",
    "- Likelihood of children in household                \n",
    "- Home Ownership             \n",
    "- Number of 6-10 family houses\n",
    "\n",
    "Interpretetion of Component - 2:\n",
    "- Dreamful                      \n",
    "- socially-minded                     \n",
    "- family-minded                      \n",
    "- cultural-minded                      \n",
    "- investor                    \n",
    "- low financial interest             \n",
    "- external supplied hedonists             \n",
    "- Green energy comsumption"
   ]
  },
  {
   "cell_type": "markdown",
   "metadata": {},
   "source": [
    "## Step 3: Clustering\n",
    "\n",
    "### Step 3.1: Apply Clustering to General Population\n",
    "\n",
    "You've assessed and cleaned the demographics data, then scaled and transformed them. Now, it's time to see how the data clusters in the principal components space. In this substep, you will apply k-means clustering to the dataset and use the average within-cluster distances from each point to their assigned cluster's centroid to decide on a number of clusters to keep.\n",
    "\n",
    "- Use sklearn's [KMeans](http://scikit-learn.org/stable/modules/generated/sklearn.cluster.KMeans.html#sklearn.cluster.KMeans) class to perform k-means clustering on the PCA-transformed data.\n",
    "- Then, compute the average difference from each point to its assigned cluster's center. **Hint**: The KMeans object's `.score()` method might be useful here, but note that in sklearn, scores tend to be defined so that larger is better. Try applying it to a small, toy dataset, or use an internet search to help your understanding.\n",
    "- Perform the above two steps for a number of different cluster counts. You can then see how the average distance decreases with an increasing number of clusters. However, each additional cluster provides a smaller net benefit. Use this fact to select a final number of clusters in which to group the data. **Warning**: because of the large size of the dataset, it can take a long time for the algorithm to resolve. The more clusters to fit, the longer the algorithm will take. You should test for cluster counts through at least 10 clusters to get the full picture, but you shouldn't need to test for a number of clusters above about 30.\n",
    "- Once you've selected a final number of clusters to use, re-fit a KMeans instance to perform the clustering operation. Make sure that you also obtain the cluster assignments for the general demographics data, since you'll be using them in the final Step 3.3."
   ]
  },
  {
   "cell_type": "code",
   "execution_count": 56,
   "metadata": {},
   "outputs": [],
   "source": [
    "# Over a number of different cluster counts...\n",
    "\n",
    "def k_mean_score(data, n_cluster):\n",
    "    # run k-means clustering on the data and...\n",
    "    k_means = KMeans(n_clusters = n_cluster)\n",
    "    model = k_means.fit(data)\n",
    "    k_means_score = np.abs(model.score(data))\n",
    "    return k_means_score\n",
    "    # compute the average within-cluster distances.\n",
    "    \n",
    "    "
   ]
  },
  {
   "cell_type": "code",
   "execution_count": 57,
   "metadata": {},
   "outputs": [
    {
     "name": "stdout",
     "output_type": "stream",
     "text": [
      "Number of clusters- 1\n",
      "Number of clusters- 2\n",
      "Number of clusters- 3\n",
      "Number of clusters- 4\n",
      "Number of clusters- 5\n",
      "Number of clusters- 6\n",
      "Number of clusters- 7\n",
      "Number of clusters- 8\n",
      "Number of clusters- 9\n",
      "Number of clusters- 10\n",
      "Number of clusters- 11\n",
      "Number of clusters- 12\n",
      "Number of clusters- 13\n",
      "Number of clusters- 14\n",
      "Number of clusters- 15\n",
      "Number of clusters- 16\n",
      "Number of clusters- 17\n",
      "Number of clusters- 18\n",
      "Number of clusters- 19\n"
     ]
    },
    {
     "data": {
      "text/plain": [
       "Text(0,0.5,'Score')"
      ]
     },
     "execution_count": 57,
     "metadata": {},
     "output_type": "execute_result"
    },
    {
     "data": {
      "image/png": "[encoded data removed]",
      "text/plain": [
       "<matplotlib.figure.Figure at 0x7efe23f923c8>"
      ]
     },
     "metadata": {
      "needs_background": "light"
     },
     "output_type": "display_data"
    }
   ],
   "source": [
    "# Investigate the change in within-cluster distance across number of clusters.\n",
    "# HINT: Use matplotlib's plot function to visualize this relationship.\n",
    "scores = []\n",
    "clusters = list(range(1,20))\n",
    "for n_clusters in clusters:\n",
    "    print('Number of clusters-', n_clusters)\n",
    "    scores.append(k_mean_score(azdias_pca, n_clusters))\n",
    "    \n",
    "plt.plot(clusters, scores, linestyle='-', marker='o')\n",
    "plt.xlabel('Clusters')\n",
    "plt.ylabel('Score')"
   ]
  },
  {
   "cell_type": "code",
   "execution_count": 58,
   "metadata": {},
   "outputs": [],
   "source": [
    "# Re-fit the k-means model with the selected number of clusters and obtain\n",
    "# cluster predictions for the general population demographics data.\n",
    "kmeans_refit = KMeans(15)\n",
    "model_refit = kmeans_refit.fit(azdias_pca)\n",
    "azdias_pred = model_refit.predict(azdias_pca)"
   ]
  },
  {
   "cell_type": "markdown",
   "metadata": {},
   "source": [
    "### Discussion 3.1: Apply Clustering to General Population\n",
    "\n",
    "From the elbow curve, KMeans score straightens after 15 clusters. So refits the model with 15 clusters."
   ]
  },
  {
   "cell_type": "markdown",
   "metadata": {},
   "source": [
    "### Step 3.2: Apply All Steps to the Customer Data\n",
    "\n",
    "Now that you have clusters and cluster centers for the general population, it's time to see how the customer data maps on to those clusters. Take care to not confuse this for re-fitting all of the models to the customer data. Instead, you're going to use the fits from the general population to clean, transform, and cluster the customer data. In the last step of the project, you will interpret how the general population fits apply to the customer data.\n",
    "\n",
    "- Don't forget when loading in the customers data, that it is semicolon (`;`) delimited.\n",
    "- Apply the same feature wrangling, selection, and engineering steps to the customer demographics using the `clean_data()` function you created earlier. (You can assume that the customer demographics data has similar meaning behind missing data patterns as the general demographics data.)\n",
    "- Use the sklearn objects from the general demographics data, and apply their transformations to the customers data. That is, you should not be using a `.fit()` or `.fit_transform()` method to re-fit the old objects, nor should you be creating new sklearn objects! Carry the data through the feature scaling, PCA, and clustering steps, obtaining cluster assignments for all of the data in the customer demographics data."
   ]
  },
  {
   "cell_type": "code",
   "execution_count": 59,
   "metadata": {},
   "outputs": [],
   "source": [
    "# Load in the customer demographics data.\n",
    "customers = pd.read_csv('Udacity_CUSTOMERS_Subset.csv', sep=';')"
   ]
  },
  {
   "cell_type": "code",
   "execution_count": 60,
   "metadata": {},
   "outputs": [
    {
     "name": "stdout",
     "output_type": "stream",
     "text": [
      "85\n",
      "['AGER_TYP', 'GEBURTSJAHR', 'TITEL_KZ', 'ALTER_HH', 'KK_KUNDENTYP', 'KBA05_BAUMAX']\n",
      "['CAMEO_DEU_2015', 'LP_STATUS_FEIN', 'LP_FAMILIE_FEIN', 'GFK_URLAUBERTYP']\n",
      "75\n",
      "2\n",
      "        ALTERSKATEGORIE_GROB  ANREDE_KZ  FINANZ_MINIMALIST  FINANZ_SPARER  \\\n",
      "0                        4.0          1                  5              1   \n",
      "2                        4.0          2                  5              1   \n",
      "4                        3.0          1                  3              1   \n",
      "5                        3.0          1                  5              1   \n",
      "6                        4.0          1                  5              1   \n",
      "7                        4.0          1                  5              1   \n",
      "8                        4.0          2                  2              2   \n",
      "9                        3.0          1                  5              2   \n",
      "11                       4.0          1                  5              1   \n",
      "12                       4.0          1                  5              2   \n",
      "13                       3.0          1                  5              2   \n",
      "14                       4.0          2                  3              1   \n",
      "15                       3.0          1                  5              1   \n",
      "16                       4.0          1                  5              1   \n",
      "17                       4.0          1                  4              3   \n",
      "18                       2.0          1                  2              4   \n",
      "19                       4.0          2                  3              2   \n",
      "21                       4.0          1                  3              1   \n",
      "22                       1.0          2                  5              1   \n",
      "23                       3.0          1                  3              3   \n",
      "24                       4.0          2                  4              1   \n",
      "25                       3.0          2                  5              2   \n",
      "26                       4.0          2                  5              1   \n",
      "27                       3.0          1                  5              2   \n",
      "28                       4.0          2                  3              1   \n",
      "29                       3.0          2                  3              1   \n",
      "30                       3.0          2                  4              1   \n",
      "31                       3.0          1                  5              2   \n",
      "32                       3.0          2                  2              1   \n",
      "33                       4.0          1                  5              1   \n",
      "...                      ...        ...                ...            ...   \n",
      "191620                   4.0          2                  2              1   \n",
      "191621                   4.0          2                  3              1   \n",
      "191622                   4.0          1                  5              1   \n",
      "191623                   4.0          1                  5              1   \n",
      "191624                   4.0          1                  5              1   \n",
      "191625                   4.0          2                  5              1   \n",
      "191626                   2.0          1                  3              3   \n",
      "191627                   3.0          2                  2              1   \n",
      "191628                   4.0          1                  5              1   \n",
      "191629                   4.0          2                  2              1   \n",
      "191630                   3.0          1                  5              1   \n",
      "191631                   4.0          2                  2              1   \n",
      "191632                   3.0          1                  4              1   \n",
      "191633                   4.0          1                  5              1   \n",
      "191634                   3.0          1                  5              1   \n",
      "191635                   4.0          2                  5              1   \n",
      "191636                   4.0          1                  5              1   \n",
      "191637                   3.0          2                  5              2   \n",
      "191638                   4.0          1                  3              1   \n",
      "191640                   3.0          1                  4              1   \n",
      "191641                   4.0          1                  5              1   \n",
      "191642                   4.0          2                  2              1   \n",
      "191643                   4.0          1                  5              1   \n",
      "191644                   4.0          2                  2              1   \n",
      "191645                   4.0          1                  5              1   \n",
      "191646                   2.0          2                  2              1   \n",
      "191647                   3.0          1                  5              1   \n",
      "191649                   4.0          1                  5              1   \n",
      "191650                   3.0          2                  2              1   \n",
      "191651                   2.0          1                  5              1   \n",
      "\n",
      "        FINANZ_VORSORGER  FINANZ_ANLEGER  FINANZ_UNAUFFAELLIGER  \\\n",
      "0                      5               1                      2   \n",
      "2                      5               1                      4   \n",
      "4                      4               4                      5   \n",
      "5                      5               1                      2   \n",
      "6                      5               1                      1   \n",
      "7                      5               1                      2   \n",
      "8                      5               1                      1   \n",
      "9                      4               1                      3   \n",
      "11                     5               1                      3   \n",
      "12                     4               3                      2   \n",
      "13                     4               2                      4   \n",
      "14                     5               1                      2   \n",
      "15                     5               1                      1   \n",
      "16                     5               1                      3   \n",
      "17                     1               4                      5   \n",
      "18                     2               2                      3   \n",
      "19                     4               3                      3   \n",
      "21                     5               2                      1   \n",
      "22                     5               1                      1   \n",
      "23                     4               1                      2   \n",
      "24                     5               2                      2   \n",
      "25                     4               4                      2   \n",
      "26                     5               2                      1   \n",
      "27                     3               1                      2   \n",
      "28                     5               1                      1   \n",
      "29                     5               1                      2   \n",
      "30                     5               1                      2   \n",
      "31                     3               3                      2   \n",
      "32                     5               1                      1   \n",
      "33                     5               1                      2   \n",
      "...                  ...             ...                    ...   \n",
      "191620                 5               1                      1   \n",
      "191621                 5               2                      1   \n",
      "191622                 5               1                      1   \n",
      "191623                 5               1                      3   \n",
      "191624                 5               1                      4   \n",
      "191625                 5               2                      1   \n",
      "191626                 3               1                      3   \n",
      "191627                 5               1                      2   \n",
      "191628                 5               1                      1   \n",
      "191629                 5               1                      2   \n",
      "191630                 5               1                      1   \n",
      "191631                 5               1                      2   \n",
      "191632                 5               1                      1   \n",
      "191633                 5               1                      4   \n",
      "191634                 5               1                      2   \n",
      "191635                 5               2                      1   \n",
      "191636                 5               1                      1   \n",
      "191637                 4               2                      3   \n",
      "191638                 5               1                      1   \n",
      "191640                 5               1                      2   \n",
      "191641                 5               1                      2   \n",
      "191642                 5               2                      1   \n",
      "191643                 5               1                      3   \n",
      "191644                 5               1                      2   \n",
      "191645                 5               1                      3   \n",
      "191646                 5               1                      2   \n",
      "191647                 5               1                      1   \n",
      "191649                 5               1                      1   \n",
      "191650                 5               1                      2   \n",
      "191651                 5               1                      1   \n",
      "\n",
      "        FINANZ_HAUSBAUER  GREEN_AVANTGARDE  HEALTH_TYP  \\\n",
      "0                      2                 1         1.0   \n",
      "2                      4                 1         2.0   \n",
      "4                      2                 0         3.0   \n",
      "5                      3                 1         3.0   \n",
      "6                      2                 1         2.0   \n",
      "7                      2                 1         1.0   \n",
      "8                      5                 0         2.0   \n",
      "9                      1                 1         3.0   \n",
      "11                     2                 1         1.0   \n",
      "12                     1                 0         2.0   \n",
      "13                     1                 0         3.0   \n",
      "14                     5                 0         2.0   \n",
      "15                     2                 1         1.0   \n",
      "16                     2                 1         1.0   \n",
      "17                     1                 1         2.0   \n",
      "18                     3                 0         1.0   \n",
      "19                     3                 0         2.0   \n",
      "21                     4                 0         2.0   \n",
      "22                     2                 0         3.0   \n",
      "23                     2                 0         3.0   \n",
      "24                     3                 0         2.0   \n",
      "25                     1                 1         3.0   \n",
      "26                     3                 0         2.0   \n",
      "27                     1                 1         1.0   \n",
      "28                     5                 0         2.0   \n",
      "29                     5                 0         3.0   \n",
      "30                     2                 1         2.0   \n",
      "31                     1                 1         3.0   \n",
      "32                     5                 0         1.0   \n",
      "33                     3                 1         3.0   \n",
      "...                  ...               ...         ...   \n",
      "191620                 4                 0         2.0   \n",
      "191621                 5                 0         2.0   \n",
      "191622                 2                 0         2.0   \n",
      "191623                 2                 1         2.0   \n",
      "191624                 2                 1         3.0   \n",
      "191625                 2                 1         2.0   \n",
      "191626                 2                 0         3.0   \n",
      "191627                 5                 0         2.0   \n",
      "191628                 2                 1         1.0   \n",
      "191629                 5                 0         2.0   \n",
      "191630                 2                 1         3.0   \n",
      "191631                 5                 0         2.0   \n",
      "191632                 4                 0         3.0   \n",
      "191633                 2                 1         2.0   \n",
      "191634                 3                 0         3.0   \n",
      "191635                 3                 0         2.0   \n",
      "191636                 2                 1         2.0   \n",
      "191637                 1                 1         3.0   \n",
      "191638                 4                 0         2.0   \n",
      "191640                 4                 1         3.0   \n",
      "191641                 2                 1         1.0   \n",
      "191642                 5                 0         1.0   \n",
      "191643                 2                 1         2.0   \n",
      "191644                 5                 1         2.0   \n",
      "191645                 2                 0         3.0   \n",
      "191646                 5                 0         2.0   \n",
      "191647                 2                 1         3.0   \n",
      "191649                 2                 1         2.0   \n",
      "191650                 5                 0         2.0   \n",
      "191651                 2                 0         2.0   \n",
      "\n",
      "                  ...              CAMEO_DEUG_2015_4  CAMEO_DEUG_2015_5  \\\n",
      "0                 ...                            0.0                0.0   \n",
      "2                 ...                            0.0                1.0   \n",
      "4                 ...                            0.0                0.0   \n",
      "5                 ...                            0.0                1.0   \n",
      "6                 ...                            0.0                0.0   \n",
      "7                 ...                            0.0                0.0   \n",
      "8                 ...                            0.0                0.0   \n",
      "9                 ...                            0.0                0.0   \n",
      "11                ...                            0.0                0.0   \n",
      "12                ...                            1.0                0.0   \n",
      "13                ...                            0.0                0.0   \n",
      "14                ...                            0.0                0.0   \n",
      "15                ...                            0.0                0.0   \n",
      "16                ...                            0.0                0.0   \n",
      "17                ...                            0.0                0.0   \n",
      "18                ...                            0.0                0.0   \n",
      "19                ...                            1.0                0.0   \n",
      "21                ...                            0.0                0.0   \n",
      "22                ...                            1.0                0.0   \n",
      "23                ...                            0.0                0.0   \n",
      "24                ...                            0.0                1.0   \n",
      "25                ...                            1.0                0.0   \n",
      "26                ...                            1.0                0.0   \n",
      "27                ...                            0.0                0.0   \n",
      "28                ...                            0.0                0.0   \n",
      "29                ...                            0.0                0.0   \n",
      "30                ...                            0.0                1.0   \n",
      "31                ...                            1.0                0.0   \n",
      "32                ...                            0.0                0.0   \n",
      "33                ...                            0.0                0.0   \n",
      "...               ...                            ...                ...   \n",
      "191620            ...                            0.0                0.0   \n",
      "191621            ...                            0.0                0.0   \n",
      "191622            ...                            0.0                0.0   \n",
      "191623            ...                            0.0                0.0   \n",
      "191624            ...                            0.0                0.0   \n",
      "191625            ...                            0.0                0.0   \n",
      "191626            ...                            1.0                0.0   \n",
      "191627            ...                            0.0                0.0   \n",
      "191628            ...                            1.0                0.0   \n",
      "191629            ...                            0.0                0.0   \n",
      "191630            ...                            0.0                0.0   \n",
      "191631            ...                            0.0                0.0   \n",
      "191632            ...                            0.0                0.0   \n",
      "191633            ...                            0.0                0.0   \n",
      "191634            ...                            0.0                1.0   \n",
      "191635            ...                            0.0                0.0   \n",
      "191636            ...                            0.0                1.0   \n",
      "191637            ...                            0.0                0.0   \n",
      "191638            ...                            0.0                0.0   \n",
      "191640            ...                            0.0                0.0   \n",
      "191641            ...                            0.0                0.0   \n",
      "191642            ...                            0.0                0.0   \n",
      "191643            ...                            0.0                0.0   \n",
      "191644            ...                            0.0                0.0   \n",
      "191645            ...                            0.0                0.0   \n",
      "191646            ...                            0.0                0.0   \n",
      "191647            ...                            0.0                0.0   \n",
      "191649            ...                            1.0                0.0   \n",
      "191650            ...                            1.0                0.0   \n",
      "191651            ...                            0.0                1.0   \n",
      "\n",
      "        CAMEO_DEUG_2015_6  CAMEO_DEUG_2015_7  CAMEO_DEUG_2015_8  \\\n",
      "0                     0.0                0.0                0.0   \n",
      "2                     0.0                0.0                0.0   \n",
      "4                     0.0                1.0                0.0   \n",
      "5                     0.0                0.0                0.0   \n",
      "6                     0.0                0.0                0.0   \n",
      "7                     0.0                0.0                0.0   \n",
      "8                     0.0                0.0                0.0   \n",
      "9                     0.0                0.0                0.0   \n",
      "11                    0.0                0.0                0.0   \n",
      "12                    0.0                0.0                0.0   \n",
      "13                    1.0                0.0                0.0   \n",
      "14                    0.0                0.0                0.0   \n",
      "15                    0.0                0.0                0.0   \n",
      "16                    0.0                0.0                0.0   \n",
      "17                    0.0                0.0                0.0   \n",
      "18                    0.0                0.0                1.0   \n",
      "19                    0.0                0.0                0.0   \n",
      "21                    1.0                0.0                0.0   \n",
      "22                    0.0                0.0                0.0   \n",
      "23                    0.0                0.0                0.0   \n",
      "24                    0.0                0.0                0.0   \n",
      "25                    0.0                0.0                0.0   \n",
      "26                    0.0                0.0                0.0   \n",
      "27                    1.0                0.0                0.0   \n",
      "28                    0.0                0.0                1.0   \n",
      "29                    0.0                0.0                1.0   \n",
      "30                    0.0                0.0                0.0   \n",
      "31                    0.0                0.0                0.0   \n",
      "32                    0.0                0.0                0.0   \n",
      "33                    0.0                0.0                0.0   \n",
      "...                   ...                ...                ...   \n",
      "191620                1.0                0.0                0.0   \n",
      "191621                0.0                1.0                0.0   \n",
      "191622                1.0                0.0                0.0   \n",
      "191623                0.0                0.0                0.0   \n",
      "191624                0.0                1.0                0.0   \n",
      "191625                0.0                0.0                0.0   \n",
      "191626                0.0                0.0                0.0   \n",
      "191627                0.0                0.0                1.0   \n",
      "191628                0.0                0.0                0.0   \n",
      "191629                0.0                0.0                0.0   \n",
      "191630                0.0                0.0                1.0   \n",
      "191631                1.0                0.0                0.0   \n",
      "191632                0.0                0.0                0.0   \n",
      "191633                0.0                0.0                0.0   \n",
      "191634                0.0                0.0                0.0   \n",
      "191635                1.0                0.0                0.0   \n",
      "191636                0.0                0.0                0.0   \n",
      "191637                0.0                0.0                0.0   \n",
      "191638                0.0                0.0                0.0   \n",
      "191640                0.0                0.0                0.0   \n",
      "191641                0.0                0.0                0.0   \n",
      "191642                0.0                0.0                1.0   \n",
      "191643                0.0                0.0                0.0   \n",
      "191644                0.0                0.0                1.0   \n",
      "191645                1.0                0.0                0.0   \n",
      "191646                0.0                0.0                0.0   \n",
      "191647                0.0                0.0                0.0   \n",
      "191649                0.0                0.0                0.0   \n",
      "191650                0.0                0.0                0.0   \n",
      "191651                0.0                0.0                0.0   \n",
      "\n",
      "        CAMEO_DEUG_2015_9  PRAEGENDE_JUGENDJAHRE_DECADE  \\\n",
      "0                     0.0                           2.0   \n",
      "2                     0.0                           2.0   \n",
      "4                     0.0                           4.0   \n",
      "5                     0.0                           2.0   \n",
      "6                     0.0                           2.0   \n",
      "7                     0.0                           2.0   \n",
      "8                     1.0                           1.0   \n",
      "9                     0.0                           4.0   \n",
      "11                    0.0                           2.0   \n",
      "12                    0.0                           4.0   \n",
      "13                    0.0                           4.0   \n",
      "14                    1.0                           1.0   \n",
      "15                    0.0                           3.0   \n",
      "16                    0.0                           2.0   \n",
      "17                    0.0                           6.0   \n",
      "18                    0.0                           6.0   \n",
      "19                    0.0                           4.0   \n",
      "21                    0.0                           3.0   \n",
      "22                    0.0                           1.0   \n",
      "23                    1.0                           4.0   \n",
      "24                    0.0                           2.0   \n",
      "25                    0.0                           5.0   \n",
      "26                    0.0                           2.0   \n",
      "27                    0.0                           4.0   \n",
      "28                    0.0                           1.0   \n",
      "29                    0.0                           3.0   \n",
      "30                    0.0                           3.0   \n",
      "31                    0.0                           4.0   \n",
      "32                    1.0                           4.0   \n",
      "33                    0.0                           1.0   \n",
      "...                   ...                           ...   \n",
      "191620                0.0                           3.0   \n",
      "191621                0.0                           3.0   \n",
      "191622                0.0                           1.0   \n",
      "191623                0.0                           3.0   \n",
      "191624                0.0                           4.0   \n",
      "191625                0.0                           2.0   \n",
      "191626                0.0                           4.0   \n",
      "191627                0.0                           2.0   \n",
      "191628                0.0                           3.0   \n",
      "191629                1.0                           1.0   \n",
      "191630                0.0                           2.0   \n",
      "191631                0.0                           2.0   \n",
      "191632                0.0                           4.0   \n",
      "191633                0.0                           3.0   \n",
      "191634                0.0                           3.0   \n",
      "191635                0.0                           1.0   \n",
      "191636                0.0                           1.0   \n",
      "191637                0.0                           4.0   \n",
      "191638                1.0                           3.0   \n",
      "191640                0.0                           4.0   \n",
      "191641                0.0                           2.0   \n",
      "191642                0.0                           2.0   \n",
      "191643                0.0                           3.0   \n",
      "191644                0.0                           4.0   \n",
      "191645                0.0                           4.0   \n",
      "191646                0.0                           4.0   \n",
      "191647                0.0                           2.0   \n",
      "191649                0.0                           2.0   \n",
      "191650                0.0                           4.0   \n",
      "191651                0.0                           2.0   \n",
      "\n",
      "        PRAEGENDE_JUGENDJAHRE_MOVEMENT  CAMEO_INTL_2015_WEALTH  \\\n",
      "0                                  0.0                     1.0   \n",
      "2                                  0.0                     3.0   \n",
      "4                                  1.0                     4.0   \n",
      "5                                  0.0                     3.0   \n",
      "6                                  0.0                     2.0   \n",
      "7                                  0.0                     1.0   \n",
      "8                                  1.0                     5.0   \n",
      "9                                  0.0                     1.0   \n",
      "11                                 0.0                     1.0   \n",
      "12                                 1.0                     2.0   \n",
      "13                                 1.0                     4.0   \n",
      "14                                 1.0                     5.0   \n",
      "15                                 0.0                     1.0   \n",
      "16                                 0.0                     1.0   \n",
      "17                                 0.0                     1.0   \n",
      "18                                 1.0                     4.0   \n",
      "19                                 1.0                     2.0   \n",
      "21                                 1.0                     4.0   \n",
      "22                                 1.0                     2.0   \n",
      "23                                 1.0                     5.0   \n",
      "24                                 1.0                     3.0   \n",
      "25                                 0.0                     2.0   \n",
      "26                                 1.0                     2.0   \n",
      "27                                 0.0                     4.0   \n",
      "28                                 1.0                     5.0   \n",
      "29                                 1.0                     5.0   \n",
      "30                                 0.0                     3.0   \n",
      "31                                 0.0                     2.0   \n",
      "32                                 1.0                     5.0   \n",
      "33                                 0.0                     2.0   \n",
      "...                                ...                     ...   \n",
      "191620                             1.0                     4.0   \n",
      "191621                             1.0                     4.0   \n",
      "191622                             1.0                     4.0   \n",
      "191623                             0.0                     1.0   \n",
      "191624                             0.0                     5.0   \n",
      "191625                             0.0                     2.0   \n",
      "191626                             1.0                     2.0   \n",
      "191627                             1.0                     5.0   \n",
      "191628                             0.0                     2.0   \n",
      "191629                             1.0                     5.0   \n",
      "191630                             0.0                     5.0   \n",
      "191631                             1.0                     4.0   \n",
      "191632                             1.0                     1.0   \n",
      "191633                             0.0                     1.0   \n",
      "191634                             1.0                     3.0   \n",
      "191635                             1.0                     4.0   \n",
      "191636                             0.0                     3.0   \n",
      "191637                             0.0                     2.0   \n",
      "191638                             1.0                     5.0   \n",
      "191640                             0.0                     1.0   \n",
      "191641                             0.0                     1.0   \n",
      "191642                             1.0                     5.0   \n",
      "191643                             0.0                     1.0   \n",
      "191644                             0.0                     4.0   \n",
      "191645                             1.0                     4.0   \n",
      "191646                             1.0                     1.0   \n",
      "191647                             0.0                     1.0   \n",
      "191649                             0.0                     2.0   \n",
      "191650                             1.0                     2.0   \n",
      "191651                             1.0                     3.0   \n",
      "\n",
      "        CAMEO_INTL_2015_LIFESTAGE  \n",
      "0                             3.0  \n",
      "2                             4.0  \n",
      "4                             1.0  \n",
      "5                             4.0  \n",
      "6                             3.0  \n",
      "7                             5.0  \n",
      "8                             5.0  \n",
      "9                             5.0  \n",
      "11                            4.0  \n",
      "12                            2.0  \n",
      "13                            3.0  \n",
      "14                            1.0  \n",
      "15                            5.0  \n",
      "16                            5.0  \n",
      "17                            4.0  \n",
      "18                            1.0  \n",
      "19                            4.0  \n",
      "21                            3.0  \n",
      "22                            4.0  \n",
      "23                            1.0  \n",
      "24                            3.0  \n",
      "25                            2.0  \n",
      "26                            5.0  \n",
      "27                            4.0  \n",
      "28                            4.0  \n",
      "29                            1.0  \n",
      "30                            2.0  \n",
      "31                            4.0  \n",
      "32                            1.0  \n",
      "33                            5.0  \n",
      "...                           ...  \n",
      "191620                        4.0  \n",
      "191621                        1.0  \n",
      "191622                        3.0  \n",
      "191623                        4.0  \n",
      "191624                        4.0  \n",
      "191625                        5.0  \n",
      "191626                        4.0  \n",
      "191627                        5.0  \n",
      "191628                        2.0  \n",
      "191629                        5.0  \n",
      "191630                        1.0  \n",
      "191631                        4.0  \n",
      "191632                        4.0  \n",
      "191633                        4.0  \n",
      "191634                        3.0  \n",
      "191635                        5.0  \n",
      "191636                        4.0  \n",
      "191637                        5.0  \n",
      "191638                        2.0  \n",
      "191640                        5.0  \n",
      "191641                        4.0  \n",
      "191642                        5.0  \n",
      "191643                        5.0  \n",
      "191644                        1.0  \n",
      "191645                        3.0  \n",
      "191646                        4.0  \n",
      "191647                        4.0  \n",
      "191649                        4.0  \n",
      "191650                        4.0  \n",
      "191651                        3.0  \n",
      "\n",
      "[130473 rows x 114 columns]\n"
     ]
    }
   ],
   "source": [
    "# Apply preprocessing, feature transformation, and clustering from the general\n",
    "# demographics onto the customer data, obtaining cluster predictions for the\n",
    "# customer demographics data.\n",
    "customers_final = clean_data(customers)\n",
    "print(customers_final)\n"
   ]
  },
  {
   "cell_type": "code",
   "execution_count": 63,
   "metadata": {},
   "outputs": [
    {
     "name": "stdout",
     "output_type": "stream",
     "text": [
      "Index(['ALTERSKATEGORIE_GROB', 'ANREDE_KZ', 'FINANZ_MINIMALIST',\n",
      "       'FINANZ_SPARER', 'FINANZ_VORSORGER', 'FINANZ_ANLEGER',\n",
      "       'FINANZ_UNAUFFAELLIGER', 'FINANZ_HAUSBAUER', 'GREEN_AVANTGARDE',\n",
      "       'HEALTH_TYP',\n",
      "       ...\n",
      "       'CAMEO_DEUG_2015_4', 'CAMEO_DEUG_2015_5', 'CAMEO_DEUG_2015_6',\n",
      "       'CAMEO_DEUG_2015_7', 'CAMEO_DEUG_2015_8', 'CAMEO_DEUG_2015_9',\n",
      "       'PRAEGENDE_JUGENDJAHRE_DECADE', 'PRAEGENDE_JUGENDJAHRE_MOVEMENT',\n",
      "       'CAMEO_INTL_2015_WEALTH', 'CAMEO_INTL_2015_LIFESTAGE'],\n",
      "      dtype='object', length=114)\n"
     ]
    }
   ],
   "source": [
    "fill_data = Imputer(strategy='most_frequent')\n",
    "customers_final_impute = pd.DataFrame(fill_data.fit_transform(customers_final), columns=customers_final.columns)\n",
    "print(customers_final_impute.columns)\n",
    "\n",
    "scaler = StandardScaler()\n",
    "customers_final_scaled = pd.DataFrame(scaler.fit_transform(customers_final_impute) , columns=customers_final_impute.columns)\n",
    "\n"
   ]
  },
  {
   "cell_type": "code",
   "execution_count": 83,
   "metadata": {},
   "outputs": [],
   "source": [
    "pca = PCA(n_components=45)\n",
    "customers_pca = pca.fit_transform(customers_final_scaled)\n",
    "customers_pred = model_refit.predict(customers_pca)\n"
   ]
  },
  {
   "cell_type": "markdown",
   "metadata": {},
   "source": [
    "### Step 3.3: Compare Customer Data to Demographics Data\n",
    "\n",
    "At this point, you have clustered data based on demographics of the general population of Germany, and seen how the customer data for a mail-order sales company maps onto those demographic clusters. In this final substep, you will compare the two cluster distributions to see where the strongest customer base for the company is.\n",
    "\n",
    "Consider the proportion of persons in each cluster for the general population, and the proportions for the customers. If we think the company's customer base to be universal, then the cluster assignment proportions should be fairly similar between the two. If there are only particular segments of the population that are interested in the company's products, then we should see a mismatch from one to the other. If there is a higher proportion of persons in a cluster for the customer data compared to the general population (e.g. 5% of persons are assigned to a cluster for the general population, but 15% of the customer data is closest to that cluster's centroid) then that suggests the people in that cluster to be a target audience for the company. On the other hand, the proportion of the data in a cluster being larger in the general population than the customer data (e.g. only 2% of customers closest to a population centroid that captures 6% of the data) suggests that group of persons to be outside of the target demographics.\n",
    "\n",
    "Take a look at the following points in this step:\n",
    "\n",
    "- Compute the proportion of data points in each cluster for the general population and the customer data. Visualizations will be useful here: both for the individual dataset proportions, but also to visualize the ratios in cluster representation between groups. Seaborn's [`countplot()`](https://seaborn.pydata.org/generated/seaborn.countplot.html) or [`barplot()`](https://seaborn.pydata.org/generated/seaborn.barplot.html) function could be handy.\n",
    "  - Recall the analysis you performed in step 1.1.3 of the project, where you separated out certain data points from the dataset if they had more than a specified threshold of missing values. If you found that this group was qualitatively different from the main bulk of the data, you should treat this as an additional data cluster in this analysis. Make sure that you account for the number of data points in this subset, for both the general population and customer datasets, when making your computations!\n",
    "- Which cluster or clusters are overrepresented in the customer dataset compared to the general population? Select at least one such cluster and infer what kind of people might be represented by that cluster. Use the principal component interpretations from step 2.3 or look at additional components to help you make this inference. Alternatively, you can use the `.inverse_transform()` method of the PCA and StandardScaler objects to transform centroids back to the original data space and interpret the retrieved values directly.\n",
    "- Perform a similar investigation for the underrepresented clusters. Which cluster or clusters are underrepresented in the customer dataset compared to the general population, and what kinds of people are typified by these clusters?"
   ]
  },
  {
   "cell_type": "code",
   "execution_count": 65,
   "metadata": {},
   "outputs": [
    {
     "data": {
      "text/plain": [
       "Text(0.5,1,'Customer Data')"
      ]
     },
     "execution_count": 65,
     "metadata": {},
     "output_type": "execute_result"
    },
    {
     "data": {
      "image/png": "[encoded data removed]",
      "text/plain": [
       "<matplotlib.figure.Figure at 0x7efdbbe65470>"
      ]
     },
     "metadata": {
      "needs_background": "light"
     },
     "output_type": "display_data"
    }
   ],
   "source": [
    "# Compare the proportion of data in each cluster for the customer data to the\n",
    "# proportion of data in each cluster for the general population.\n",
    "figure, axs = plt.subplots(nrows=1, ncols=2, figsize = (10,5))\n",
    "figure.subplots_adjust(hspace = 1, wspace=.3)\n",
    "\n",
    "\n",
    "sns.countplot(azdias_pred, ax=axs[0])\n",
    "axs[0].set_title('General Data')\n",
    "sns.countplot(customers_pred, ax=axs[1])\n",
    "axs[1].set_title('Customer Data')\n",
    "\n"
   ]
  },
  {
   "cell_type": "code",
   "execution_count": 74,
   "metadata": {},
   "outputs": [
    {
     "name": "stdout",
     "output_type": "stream",
     "text": [
      "             index\n",
      "Cluster           \n",
      "0        10.133131\n",
      "1         3.380010\n",
      "2         3.944111\n",
      "3         9.559832\n",
      "4         7.914281\n",
      "5         4.951982\n",
      "6         7.079626\n",
      "7         5.551340\n",
      "8        11.347175\n",
      "9        12.181831\n",
      "11        6.272562\n",
      "12        4.597120\n",
      "13        2.628130\n",
      "14       10.458869\n"
     ]
    }
   ],
   "source": [
    "# What kinds of people are part of a cluster that is overrepresented in the\n",
    "# customer data compared to the general population?\n",
    "customer_clusters = pd.DataFrame(customers_pred,columns=['Cluster']).reset_index().groupby('Cluster').count()/len(customers_pred)*100\n",
    "print(customer_clusters)\n"
   ]
  },
  {
   "cell_type": "code",
   "execution_count": 75,
   "metadata": {},
   "outputs": [
    {
     "name": "stdout",
     "output_type": "stream",
     "text": [
      "             index\n",
      "Cluster           \n",
      "0         8.005353\n",
      "1         4.995687\n",
      "2         5.737336\n",
      "3         9.466348\n",
      "4         7.500452\n",
      "5         6.584862\n",
      "6         6.203911\n",
      "7         9.365342\n",
      "8        10.794677\n",
      "9         8.439755\n",
      "10        0.072037\n",
      "11        6.300431\n",
      "12        5.570574\n",
      "13        4.275315\n",
      "14        6.687919\n"
     ]
    }
   ],
   "source": [
    "gen_clusters = pd.DataFrame(azdias_pred,columns=['Cluster']).reset_index().groupby('Cluster').count()/len(azdias_pred)*100\n",
    "print(gen_df)"
   ]
  },
  {
   "cell_type": "code",
   "execution_count": 84,
   "metadata": {},
   "outputs": [
    {
     "name": "stdout",
     "output_type": "stream",
     "text": [
      "ALTERSKATEGORIE_GROB              3.246987\n",
      "ANREDE_KZ                         0.969661\n",
      "FINANZ_MINIMALIST                 5.259621\n",
      "FINANZ_SPARER                     1.454349\n",
      "FINANZ_VORSORGER                  4.459274\n",
      "FINANZ_ANLEGER                    1.252351\n",
      "FINANZ_UNAUFFAELLIGER             2.147849\n",
      "FINANZ_HAUSBAUER                  1.419243\n",
      "GREEN_AVANTGARDE                  1.281785\n",
      "HEALTH_TYP                        1.947223\n",
      "RETOURTYP_BK_S                    3.920600\n",
      "SEMIO_SOZ                         5.302749\n",
      "SEMIO_FAM                         4.744897\n",
      "SEMIO_REL                         4.167186\n",
      "SEMIO_MAT                         4.211139\n",
      "SEMIO_VERT                        6.492270\n",
      "SEMIO_LUST                        5.289087\n",
      "SEMIO_ERL                         3.195291\n",
      "SEMIO_KULT                        5.330157\n",
      "SEMIO_RAT                         2.944601\n",
      "SEMIO_KRIT                        2.426123\n",
      "SEMIO_DOM                         3.500601\n",
      "SEMIO_KAEM                        2.212062\n",
      "SEMIO_PFLICHT                     3.525838\n",
      "SEMIO_TRADV                       4.012176\n",
      "SOHO_KZ                           0.003133\n",
      "VERS_TYP                          1.366226\n",
      "ANZ_PERSONEN                      3.244001\n",
      "ANZ_TITEL                         0.005981\n",
      "HH_EINKOMMEN_SCORE                0.983410\n",
      "                                    ...   \n",
      "CJT_GESAMTTYP_2.0                 0.013667\n",
      "CJT_GESAMTTYP_3.0                 0.267756\n",
      "CJT_GESAMTTYP_4.0                 0.341230\n",
      "CJT_GESAMTTYP_5.0                 0.141486\n",
      "CJT_GESAMTTYP_6.0                 0.099821\n",
      "NATIONALITAET_KZ_1.0              0.957925\n",
      "NATIONALITAET_KZ_2.0              0.029601\n",
      "NATIONALITAET_KZ_3.0              0.012474\n",
      "LP_FAMILIE_GROB_1.0              -0.012733\n",
      "LP_FAMILIE_GROB_2.0               0.176284\n",
      "LP_FAMILIE_GROB_3.0               0.032366\n",
      "LP_FAMILIE_GROB_4.0               0.115033\n",
      "LP_FAMILIE_GROB_5.0               0.693204\n",
      "SHOPPER_TYP_0.0                   0.388572\n",
      "SHOPPER_TYP_1.0                   0.130844\n",
      "SHOPPER_TYP_2.0                   0.050320\n",
      "SHOPPER_TYP_3.0                   0.421870\n",
      "CAMEO_DEUG_2015_1                 0.345854\n",
      "CAMEO_DEUG_2015_2                 0.331010\n",
      "CAMEO_DEUG_2015_3                 0.079673\n",
      "CAMEO_DEUG_2015_4                 0.168802\n",
      "CAMEO_DEUG_2015_5                 0.085959\n",
      "CAMEO_DEUG_2015_6                 0.100390\n",
      "CAMEO_DEUG_2015_7                -0.058889\n",
      "CAMEO_DEUG_2015_8                 0.022222\n",
      "CAMEO_DEUG_2015_9                -0.076160\n",
      "PRAEGENDE_JUGENDJAHRE_DECADE      3.214497\n",
      "PRAEGENDE_JUGENDJAHRE_MOVEMENT   -0.278087\n",
      "CAMEO_INTL_2015_WEALTH            1.285364\n",
      "CAMEO_INTL_2015_LIFESTAGE         4.053341\n",
      "Length: 114, dtype: float64\n"
     ]
    }
   ],
   "source": [
    "cluster_14 = scaler.inverse_transform(pca.inverse_transform(model_refit.cluster_centers_[14]))\n",
    "overrepresented_cust = pd.Series(data = cluster_14, index = customers_final.columns)\n",
    "print(overrepresented_cust)"
   ]
  },
  {
   "cell_type": "code",
   "execution_count": 79,
   "metadata": {},
   "outputs": [
    {
     "name": "stdout",
     "output_type": "stream",
     "text": [
      "ALTERSKATEGORIE_GROB              2.965013\n",
      "ANREDE_KZ                         1.664248\n",
      "FINANZ_MINIMALIST                 3.855599\n",
      "FINANZ_SPARER                     2.046225\n",
      "FINANZ_VORSORGER                  3.930016\n",
      "FINANZ_ANLEGER                    2.641803\n",
      "FINANZ_UNAUFFAELLIGER             2.125595\n",
      "FINANZ_HAUSBAUER                  2.506958\n",
      "GREEN_AVANTGARDE                  0.167481\n",
      "HEALTH_TYP                        2.643115\n",
      "RETOURTYP_BK_S                    3.241243\n",
      "SEMIO_SOZ                         3.488884\n",
      "SEMIO_FAM                         3.281208\n",
      "SEMIO_REL                         3.114295\n",
      "SEMIO_MAT                         2.439309\n",
      "SEMIO_VERT                        3.683306\n",
      "SEMIO_LUST                        4.242976\n",
      "SEMIO_ERL                         5.835602\n",
      "SEMIO_KULT                        3.397811\n",
      "SEMIO_RAT                         3.846538\n",
      "SEMIO_KRIT                        5.047197\n",
      "SEMIO_DOM                         5.320811\n",
      "SEMIO_KAEM                        5.347824\n",
      "SEMIO_PFLICHT                     3.833520\n",
      "SEMIO_TRADV                       3.262950\n",
      "SOHO_KZ                           0.013300\n",
      "VERS_TYP                          1.845839\n",
      "ANZ_PERSONEN                      2.555250\n",
      "ANZ_TITEL                         0.006585\n",
      "HH_EINKOMMEN_SCORE                3.903945\n",
      "                                    ...   \n",
      "CJT_GESAMTTYP_2.0                 0.179297\n",
      "CJT_GESAMTTYP_3.0                 0.207104\n",
      "CJT_GESAMTTYP_4.0                 0.229452\n",
      "CJT_GESAMTTYP_5.0                 0.165175\n",
      "CJT_GESAMTTYP_6.0                 0.119456\n",
      "NATIONALITAET_KZ_1.0              1.002352\n",
      "NATIONALITAET_KZ_2.0             -0.002623\n",
      "NATIONALITAET_KZ_3.0              0.000270\n",
      "LP_FAMILIE_GROB_1.0               0.255392\n",
      "LP_FAMILIE_GROB_2.0               0.102968\n",
      "LP_FAMILIE_GROB_3.0               0.029398\n",
      "LP_FAMILIE_GROB_4.0               0.152487\n",
      "LP_FAMILIE_GROB_5.0               0.450368\n",
      "SHOPPER_TYP_0.0                   0.151722\n",
      "SHOPPER_TYP_1.0                   0.447020\n",
      "SHOPPER_TYP_2.0                   0.390488\n",
      "SHOPPER_TYP_3.0                  -0.011888\n",
      "CAMEO_DEUG_2015_1                 0.031825\n",
      "CAMEO_DEUG_2015_2                 0.084279\n",
      "CAMEO_DEUG_2015_3                 0.196799\n",
      "CAMEO_DEUG_2015_4                 0.211000\n",
      "CAMEO_DEUG_2015_5                 0.040788\n",
      "CAMEO_DEUG_2015_6                 0.183027\n",
      "CAMEO_DEUG_2015_7                 0.102748\n",
      "CAMEO_DEUG_2015_8                 0.110243\n",
      "CAMEO_DEUG_2015_9                 0.037284\n",
      "PRAEGENDE_JUGENDJAHRE_DECADE      4.043519\n",
      "PRAEGENDE_JUGENDJAHRE_MOVEMENT    0.829447\n",
      "CAMEO_INTL_2015_WEALTH            2.908545\n",
      "CAMEO_INTL_2015_LIFESTAGE         3.098379\n",
      "Length: 114, dtype: float64\n"
     ]
    }
   ],
   "source": [
    "# What kinds of people are part of a cluster that is underrepresented in the\n",
    "# customer data compared to the general population?\n",
    "cluster_7 = scaler.inverse_transform(pca.inverse_transform(model_refit.cluster_centers_[7]))\n",
    "underrepresented = pd.Series(data = cluster_7, index = customers_final.columns)\n",
    "print(underrepresented)"
   ]
  },
  {
   "cell_type": "markdown",
   "metadata": {},
   "source": [
    "### Discussion 3.3: Compare Customer Data to Demographics Data\n",
    "\n",
    "Yes clustering analysis describes the population that are relatively popular with mail-order compnay or relatively unpopular with the company.\n",
    "\n",
    "Cluster 14 is overrepresented in the customers data compared to general population data. \n",
    "Characteristic that are relative popular with the mail-order company:\n",
    "\n",
    "- Represents population who are of low financial interest and Financially prepared.\n",
    "- Represents people who are tradional-minded ,family and religious\n",
    "\n",
    "Cluster 7 is overrepresented in the customers data compared to general population data. \n",
    "Characteristic that are not relative popular with the mail-order company:\n",
    "\n",
    "- Dominating movement of person's youth\n",
    "- Personality traits like people who are cultural-minded , sensually minded and critical minded"
   ]
  },
  {
   "cell_type": "markdown",
   "metadata": {},
   "source": [
    "> Congratulations on making it this far in the project! Before you finish, make sure to check through the entire notebook from top to bottom to make sure that your analysis follows a logical flow and all of your findings are documented in **Discussion** cells. Once you've checked over all of your work, you should export the notebook as an HTML document to submit for evaluation. You can do this from the menu, navigating to **File -> Download as -> HTML (.html)**. You will submit both that document and this notebook for your project submission."
   ]
  },
  {
   "cell_type": "code",
   "execution_count": null,
   "metadata": {},
   "outputs": [],
   "source": []
  }
 ],
 "metadata": {
  "kernelspec": {
   "display_name": "Python 3",
   "language": "python",
   "name": "python3"
  },
  "language_info": {
   "codemirror_mode": {
    "name": "ipython",
    "version": 3
   },
   "file_extension": ".py",
   "mimetype": "text/x-python",
   "name": "python",
   "nbconvert_exporter": "python",
   "pygments_lexer": "ipython3",
   "version": "3.6.3"
  }
 },
 "nbformat": 4,
 "nbformat_minor": 2
}
